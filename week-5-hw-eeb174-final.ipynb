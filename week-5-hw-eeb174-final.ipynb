{
 "cells": [
  {
   "cell_type": "code",
   "execution_count": 2,
   "metadata": {
    "collapsed": false
   },
   "outputs": [
    {
     "name": "stdout",
     "output_type": "stream",
     "text": [
      "10.0\n"
     ]
    }
   ],
   "source": [
    "# Part 3-1\n",
    "\n",
    "protein = \"MSRSLLLRFLLFLLLLPPLP\"\n",
    "aa = \"R\"\n",
    "aa_count = protein.count(aa)\n",
    "protein_length = len(protein)\n",
    "percentage = aa_count * 100 / protein_length \n",
    "print(percentage)"
   ]
  },
  {
   "cell_type": "code",
   "execution_count": 3,
   "metadata": {
    "collapsed": false
   },
   "outputs": [
    {
     "ename": "AssertionError",
     "evalue": "",
     "output_type": "error",
     "traceback": [
      "\u001b[0;31m---------------------------------------------------------------------------\u001b[0m",
      "\u001b[0;31mAssertionError\u001b[0m                            Traceback (most recent call last)",
      "\u001b[0;32m<ipython-input-3-6e6478e9618c>\u001b[0m in \u001b[0;36m<module>\u001b[0;34m()\u001b[0m\n\u001b[1;32m      6\u001b[0m \u001b[0;34m\u001b[0m\u001b[0m\n\u001b[1;32m      7\u001b[0m \u001b[0;32massert\u001b[0m \u001b[0mget_aa_percentage\u001b[0m\u001b[0;34m(\u001b[0m\u001b[0;34m\"MSRSLLLRFLLFLLLLPPLP\"\u001b[0m\u001b[0;34m,\u001b[0m \u001b[0;34m\"M\"\u001b[0m\u001b[0;34m)\u001b[0m \u001b[0;34m==\u001b[0m \u001b[0;36m5\u001b[0m\u001b[0;34m\u001b[0m\u001b[0m\n\u001b[0;32m----> 8\u001b[0;31m \u001b[0;32massert\u001b[0m \u001b[0mget_aa_percentage\u001b[0m\u001b[0;34m(\u001b[0m\u001b[0;34m\"MSRSLLLRFLLFLLLLPPLP\"\u001b[0m\u001b[0;34m,\u001b[0m \u001b[0;34m\"r\"\u001b[0m\u001b[0;34m)\u001b[0m \u001b[0;34m==\u001b[0m \u001b[0;36m10\u001b[0m\u001b[0;34m\u001b[0m\u001b[0m\n\u001b[0m\u001b[1;32m      9\u001b[0m \u001b[0;32massert\u001b[0m \u001b[0mget_aa_percentage\u001b[0m\u001b[0;34m(\u001b[0m\u001b[0;34m\"msrslllrfllfllllpplp\"\u001b[0m\u001b[0;34m,\u001b[0m \u001b[0;34m\"L\"\u001b[0m\u001b[0;34m)\u001b[0m \u001b[0;34m==\u001b[0m \u001b[0;36m50\u001b[0m\u001b[0;34m\u001b[0m\u001b[0m\n\u001b[1;32m     10\u001b[0m \u001b[0;32massert\u001b[0m \u001b[0mget_aa_percentage\u001b[0m\u001b[0;34m(\u001b[0m\u001b[0;34m\"MSRSLLLRFLLFLLLLPPLP\"\u001b[0m\u001b[0;34m,\u001b[0m \u001b[0;34m\"Y\"\u001b[0m\u001b[0;34m)\u001b[0m \u001b[0;34m==\u001b[0m \u001b[0;36m0\u001b[0m\u001b[0;34m\u001b[0m\u001b[0m\n",
      "\u001b[0;31mAssertionError\u001b[0m: "
     ]
    }
   ],
   "source": [
    "def get_aa_percentage(protein, aa):\n",
    "    aa_count = protein.count(aa)\n",
    "    protein_length = len(protein)\n",
    "    percentage = aa_count * 100 / protein_length\n",
    "    return percentage\n",
    "\n",
    "assert get_aa_percentage(\"MSRSLLLRFLLFLLLLPPLP\", \"M\") == 5\n",
    "assert get_aa_percentage(\"MSRSLLLRFLLFLLLLPPLP\", \"r\") == 10\n",
    "assert get_aa_percentage(\"msrslllrfllfllllpplp\", \"L\") == 50\n",
    "assert get_aa_percentage(\"MSRSLLLRFLLFLLLLPPLP\", \"Y\") == 0"
   ]
  },
  {
   "cell_type": "code",
   "execution_count": 15,
   "metadata": {
    "collapsed": false
   },
   "outputs": [],
   "source": [
    "def get_aa_percentage(protein, aa):\n",
    "    \n",
    "    protein = protein.upper()\n",
    "    aa = aa.upper()\n",
    "\n",
    "    aa_count = protein.count(aa)\n",
    "    protein_length = len(protein)\n",
    "    percentage = aa_count * 100 / protein_length\n",
    "    return percentage\n",
    "\n",
    "assert get_aa_percentage(\"MSRSLLLRFLLFLLLLPPLP\", \"M\") == 5\n",
    "assert get_aa_percentage(\"MSRSLLLRFLLFLLLLPPLP\", \"r\") == 10\n",
    "assert get_aa_percentage(\"msrslllrfllfllllpplp\", \"L\") == 50\n",
    "assert get_aa_percentage(\"MSRSLLLRFLLFLLLLPPLP\", \"Y\") == 0\n"
   ]
  },
  {
   "cell_type": "code",
   "execution_count": 18,
   "metadata": {
    "collapsed": false
   },
   "outputs": [
    {
     "name": "stdout",
     "output_type": "stream",
     "text": [
      "10.0\n"
     ]
    }
   ],
   "source": [
    "print(percentage)"
   ]
  },
  {
   "cell_type": "code",
   "execution_count": 20,
   "metadata": {
    "collapsed": false
   },
   "outputs": [
    {
     "name": "stdout",
     "output_type": "stream",
     "text": [
      "counting number of M\n",
      "running total is 1\n",
      "counting number of L\n",
      "running total is 11\n",
      "counting number of F\n",
      "running total is 13\n",
      "final percentage is 65.0\n"
     ]
    }
   ],
   "source": [
    "# Part 3-2\n",
    "\n",
    "protein = \"MSRSLLLRFLLFLLLLPPLP\"\n",
    "aa_list = ['M', 'L', 'F']\n",
    "\n",
    "total = 0\n",
    "for aa in aa_list: \n",
    "    print(\"counting number of \" + aa)\n",
    "    aa = aa.upper()\n",
    "    aa_count = protein.count(aa)\n",
    "    \n",
    "    total = total + aa_count\n",
    "    print(\"running total is \" + str(total))\n",
    "    \n",
    "percentage = total * 100 / len(protein)\n",
    "print(\"final percentage is \" + str(percentage))"
   ]
  },
  {
   "cell_type": "code",
   "execution_count": 23,
   "metadata": {
    "collapsed": false
   },
   "outputs": [],
   "source": [
    "protein = \"MSRSLLLRFLLFLLLLPPLP\"\n",
    "aa_list = ['M', 'L', 'F']\n",
    "\n",
    "def get_aa_percentage(protein, aa_list):\n",
    "    protein = protein.upper()\n",
    "    protein_length = len(protein)\n",
    "    total = 0 \n",
    "    for aa in aa_list: \n",
    "        aa = aa.upper()\n",
    "        aa_count = protein.count(aa)\n",
    "        total = total + aa_count\n",
    "    percentage = total * 100 / protein_length\n",
    "    return percentage\n",
    "\n",
    "# This part is supposed to show me some type of error which states that get_aa_percentage() takes exactly 2 arguments, but it didn't show me anything\n"
   ]
  },
  {
   "cell_type": "code",
   "execution_count": 31,
   "metadata": {
    "collapsed": false
   },
   "outputs": [
    {
     "name": "stdout",
     "output_type": "stream",
     "text": [
      "65.0\n"
     ]
    }
   ],
   "source": [
    "print(percentage)"
   ]
  },
  {
   "cell_type": "code",
   "execution_count": 27,
   "metadata": {
    "collapsed": true
   },
   "outputs": [],
   "source": [
    "def get_aa_percentage(protein, aa_list=['A', 'I', 'L', 'M', 'F', 'W', 'Y', 'V']):\n",
    "    \n",
    "    protein = protein.upper()\n",
    "    protein_length = len(protein)\n",
    "    total = 0 \n",
    "    for aa in aa_list: \n",
    "        aa = aa.upper()\n",
    "        aa_count = protein.count(aa)\n",
    "        total = total + aa_count\n",
    "    percentage = total * 100 / protein_length\n",
    "    return percentage\n",
    "\n",
    "# here it's supposed to return the percetage but it does not return anything, I tried it multiple times but no luck.\n",
    "\n",
    "    "
   ]
  },
  {
   "cell_type": "code",
   "execution_count": 29,
   "metadata": {
    "collapsed": false
   },
   "outputs": [
    {
     "name": "stdout",
     "output_type": "stream",
     "text": [
      "65.0\n"
     ]
    }
   ],
   "source": [
    "print(percentage)"
   ]
  },
  {
   "cell_type": "markdown",
   "metadata": {},
   "source": [
    "# Part 1\n",
    "\n",
    "## 1. tail -n+4 formatted1.nature.csv | cut -d \",\" -f 3| sort | uniq | wc-l \n",
    "\n",
    "194"
   ]
  },
  {
   "cell_type": "markdown",
   "metadata": {},
   "source": [
    "## 2. tail -n +4 nature2.csv | cut -d \",\" -f 3 | sort | uniq -c | sort -n -r     \n",
    "\n",
    "102"
   ]
  },
  {
   "cell_type": "markdown",
   "metadata": {},
   "source": [
    "## 3. tail -n +4 nature2.csv | cut -d \",\" -f 3 | sort | uniq -c | sort -n -r | grep -w \"1\" -c\n",
    "\n",
    "60"
   ]
  },
  {
   "cell_type": "markdown",
   "metadata": {},
   "source": [
    "## 4. tail -n+2 eBird_Taxonomy3.csv | cut -d \",\" -f 8 | sort | uniq |wc -l\n",
    "\n",
    "239"
   ]
  },
  {
   "cell_type": "markdown",
   "metadata": {},
   "source": [
    "## 5. \n",
    "   '''        4 Acanthisittidae (New Zealand Wrens)\\n\",\n",
    "         76 Acanthizidae (Thornbills and Allies)\\n\",\n",
    "        386 \\\"Accipitridae (Hawks\\n\",\n",
    "         80 Acrocephalidae (Reed-Warblers and Allies)\\n\",\n",
    "         23 Aegithalidae (Long-tailed Tits)\\n\",\n",
    "          5 Aegithinidae (Ioras)\\n\",\n",
    "         14 Aegothelidae (Owlet-nightjars)\\n\",\n",
    "        148 Alaudidae (Larks)\\n\",\n",
    "        161 Alcedinidae (Kingfishers)\\n\",\n",
    "         40 \\\"Alcidae (Auks\\n\",\n",
    "        364 \\\"Anatidae (Ducks\\n\",\n",
    "          3 Anhimidae (Screamers)\\n\",\n",
    "          4 Anhingidae (Anhingas)\\n\",\n",
    "          1 Anseranatidae (Magpie Goose)\\n\",\n",
    "        152 Apodidae (Swifts)\\n\",\n",
    "          7 Apterygidae (Kiwis)\\n\",\n",
    "          3 Aramidae (Limpkin)\\n\",\n",
    "        126 \\\"Ardeidae (Herons\\n\",\n",
    "         14 Artamidae (Woodswallows)\\n\",\n",
    "          2 Atrichornithidae (Scrub-birds)\\n\",\n",
    "          1 Balaenicipitidae (Shoebill)\\n\",\n",
    "         11 Bernieridae (Malagasy Warblers)\\n\",\n",
    "          4 Bombycillidae (Waxwings)\\n\",\n",
    "         5 Brachypteraciidae (Ground-Rollers)\\n\",\n",
    "         48 Bucconidae (Puffbirds)\\n\",\n",
    "         74 Bucerotidae (Hornbills)\\n\",\n",
    "          2 Bucorvidae (Ground-Hornbills)\\n\",\n",
    "          3 Buphagidae (Oxpeckers)\\n\",\n",
    "         11 Burhinidae (Thick-knees)\\n\",\n",
    "         26 Cacatuidae (Cockatoos)\\n\",\n",
    "          9 Calcariidae (Longspurs and Snow Buntings)\\n\",\n",
    "          5 Callaeidae (Wattlebirds)\\n\",\n",
    "         10 Calyptomenidae (African and Green Broadbills)\\n\",\n",
    "        111 Campephagidae (Cuckooshrikes)\\n\",\n",
    "         18 Capitonidae (New World Barbets)\\n\",\n",
    "        124 Caprimulgidae (Nightjars and Allies)\\n\",\n",
    "         93 Cardinalidae (Cardinals and Allies)\\n\",\n",
    "          2 Cariamidae (Seriemas)\\n\",\n",
    "          4 Casuariidae (Cassowaries and Emu)\\n\",\n",
    "         12 Cathartidae (New World Vultures)\\n\",\n",
    "         19 Certhiidae (Treecreepers)\\n\",\n",
    "         42 Cettiidae (Bush-Warblers and Allies)\\n\",\n",
    "          2 Chaetopidae (Rockjumpers)\\n\",\n",
    "         90 Charadriidae (Plovers and Lapwings)\\n\",\n",
    "          2 Chionidae (Sheathbills)\\n\",\n",
    "         13 Chloropseidae (Leafbirds)\\n\",\n",
    "         25 Ciconiidae (Storks)\\n\",\n",
    "         10 Cinclidae (Dippers)\\n\",\n",
    "         14 Cinclosomatidae (Quail-thrushes and Jewel-babblers)\\n\",\n",
    "        222 Cisticolidae (Cisticolas and Allies)\\n\",\n",
    "          9 Climacteridae (Australasian Treecreepers)\\n\",\n",
    "          3 Cnemophilidae (Satinbirds)\\n\",\n",
    "          7 Coliidae (Mousebirds)\\n\",\n",
    "        425 Columbidae (Pigeons and Doves)\\n\",\n",
    "         13 Conopophagidae (Gnateaters)\\n\",\n",
    "         18 Coraciidae (Rollers)\\n\",\n",
    "          2 Corcoracidae (White-winged Chough and Apostlebird)\\n\",\n",
    "        190 \\\"Corvidae (Crows\\n\",\n",
    "         76 Cotingidae (Cotingas)\\n\",\n",
    "         72 \\\"Cracidae (Guans\\n\",\n",
    "         26 Cracticidae (Bellmagpies and Allies)\\n\",\n",
    "        206 Cuculidae (Cuckoos)\\n\",\n",
    "          3 Dasyornithidae (Bristlebirds)\\n\",\n",
    "         57 Dicaeidae (Flowerpeckers)\\n\",\n",
    "         40 Dicruridae (Drongos)\\n\",\n",
    "         33 Diomedeidae (Albatrosses)\\n\",\n",
    "          1 Donacobiidae (Donacobius)\\n\",\n",
    "          1 Dromadidae (Crab Plover)\\n\",\n",
    "          1 Dulidae (Palmchat)\\n\",\n",
    "         1 Elachuridae (Spotted Elachura)\\n\",\n",
    "        318 Emberizidae (Buntings and New World Sparrows)\\n\",\n",
    "        176 Estrildidae (Waxbills and Allies)\\n\",\n",
    "          1 Eulacestomatidae (Ploughbill)\\n\",\n",
    "          1 Eupetidae (Rail-babbler)\\n\",\n",
    "         11 Eurylaimidae (Asian and Grauer's Broadbills)\\n\",\n",
    "          1 Eurypygidae (Sunbittern)\\n\",\n",
    "        109 Falconidae (Falcons and Caracaras)\\n\",\n",
    "          4 Falcunculidae (Shrike-tit)\\n\",\n",
    "         17 Formicariidae (Antthrushes)\\n\",\n",
    "          6 Fregatidae (Frigatebirds)\\n\",\n",
    "        325 \\\"Fringillidae (Finches\\n\",\n",
    "        452 Furnariidae (Ovenbirds and Woodcreepers)\\n\",\n",
    "         23 Galbulidae (Jacamars)\\n\",\n",
    "          8 Gaviidae (Loons)\\n\",\n",
    "         23 Glareolidae (Pratincoles and Coursers)\\n\",\n",
    "         74 Grallariidae (Antpittas)\\n\",\n",
    "         23 Gruidae (Cranes)\\n\",\n",
    "         16 Haematopodidae (Oystercatchers)\\n\",\n",
    "          3 Heliornithidae (Finfoots)\\n\",\n",
    "          5 Hemiprocnidae (Treeswifts)\\n\",\n",
    "        146 Hirundinidae (Swallows)\\n\",\n",
    "         50 Hydrobatidae (Storm-Petrels)\\n\",\n",
    "          4 Hyliotidae (Hyliotas)\\n\",\n",
    "          1 Hylocitreidae (Hylocitrea)\\n\",\n",
    "          1 Hypocoliidae (Hypocolius)\\n\",\n",
    "          1 Ibidorhynchidae (Ibisbill)\\n\",\n",
    "        166 Icteridae (Troupials and Allies)\\n\",\n",
    "          1 Ifritidae (Ifrita)\\n\",\n",
    "         20 Indicatoridae (Honeyguides)\\n\",\n",
    "          2 Irenidae (Fairy-bluebirds)\\n\",\n",
    "         13 Jacanidae (Jacanas)\\n\",\n",
    "         59 Laniidae (Shrikes)\\n\",\n",
    "        209 \\\"Laridae (Gulls\\n\",\n",
    "        171 Leiothrichidae (Laughingthrushes and Allies)\\n\",\n",
    "          1 Leptosomidae (Cuckoo-Roller)\\n\",\n",
    "         76 Locustellidae (Grassbirds and Allies)\\n\",\n",
    "         64 Lybiidae (African Barbets)\\n\",\n",
    "          2 Machaerirhynchidae (Boatbills)\\n\",\n",
    "         25 Macrosphenidae (African Warblers)\\n\",\n",
    "         72 Malaconotidae (Bushshrikes and Allies)\\n\",\n",
    "         40 Maluridae (Fairywrens)\\n\",\n",
    "         42 Megalaimidae (Asian Barbets)\\n\",\n",
    "         23 Megapodiidae (Megapodes)\\n\",\n",
    "          2 Melampittidae (Melampittas)\\n\",\n",
    "         12 Melanocharitidae (Berrypeckers and Longbills)\\n\",\n",
    "          4 Melanopareiidae (Crescentchests)\\n\",\n",
    "        208 Meliphagidae (Honeyeaters)\\n\",\n",
    "          2 Menuridae (Lyrebirds)\\n\",\n",
    "         33 Meropidae (Bee-eaters)\\n\",\n",
    "          3 Mesitornithidae (Mesites)\\n\",\n",
    "         46 Mimidae (Mockingbirds and Thrashers)\\n\",\n",
    "          5 Mohoidae (Hawaiian Honeyeaters)\\n\",\n",
    "          3 Mohouidae (Whiteheads)\\n\",\n",
    "         21 Momotidae (Motmots)\\n\",\n",
    "        136 Monarchidae (Monarch Flycatchers)\\n\",\n",
    "        130 Motacillidae (Wagtails and Pipits)\\n\",\n",
    "        457 Muscicapidae (Old World Flycatchers)\\n\",\n",
    "         41 Musophagidae (Turacos)\\n\",\n",
    "        190 Nectariniidae (Sunbirds and Spiderhunters)\\n\",\n",
    "          8 Neosittidae (Sittellas)\\n\",\n",
    "          4 Nicatoridae (Nicators)\\n\",\n",
    "          1 Notiomystidae (Stitchbird)\\n\",\n",
    "         15 Numididae (Guineafowl)\\n\",\n",
    "         10 Nyctibiidae (Potoos)\\n\",\n",
    "         50 Odontophoridae (New World Quail)\\n\",\n",
    "          1 Opisthocomidae (Hoatzin)\\n\",\n",
    "          3 Oreoicidae (Australo-Papuan Bellbirds)\\n\",\n",
    "         46 Oriolidae (Old World Orioles)\\n\",\n",
    "          3 Orthonychidae (Logrunners)\\n\",\n",
    "         34 Otididae (Bustards)\\n\",\n",
    "          1 Oxyruncidae (Sharpbill)\\n\",\n",
    "         71 Pachycephalidae (Whistlers and Allies)\\n\",\n",
    "          5 Pandionidae (Osprey)\\n\",\n",
    "          1 Panuridae (Bearded Reedling)\\n\",\n",
    "         45 Paradisaeidae (Birds-of-Paradise)\\n\",\n",
    "         46 \\\"Paradoxornithidae (Parrotbills\\n\",\n",
    "          2 Paramythiidae (Tit Berrypecker and Crested Berrypecker)\\n\",\n",
    "         12 Pardalotidae (Pardalotes)\\n\",\n",
    "         98 \\\"Paridae (Tits\\n\",\n",
    "        228 Parulidae (New World Warblers)\\n\",\n",
    "         55 Passeridae (Old World Sparrows)\\n\",\n",
    "          1 Pedionomidae (Plains-wanderer)\\n\",\n",
    "         13 Pelecanidae (Pelicans)\\n\",\n",
    "         70 Pellorneidae (Ground Babblers and Allies)\\n\",\n",
    "         58 Petroicidae (Australasian Robins)\\n\",\n",
    "          1 Peucedramidae (Olive Warbler)\\n\",\n",
    "         11 Phaethontidae (Tropicbirds)\\n\",\n",
    "         56 Phalacrocoracidae (Cormorants and Shags)\\n\",\n",
    "        240 \\\"Phasianidae (Pheasants\\n\",\n",
    "          5 Philepittidae (Asities)\\n\",\n",
    "          8 Phoenicopteridae (Flamingos)\\n\",\n",
    "         13 Phoeniculidae (Woodhoopoes and Scimitar-bills)\\n\",\n",
    "        119 Phylloscopidae (Leaf Warblers)\\n\",\n",
    "          2 Picathartidae (Rockfowl)\\n\",\n",
    "        370 Picidae (Woodpeckers)\\n\",\n",
    "         67 Pipridae (Manakins)\\n\",\n",
    "         59 Pittidae (Pittas)\\n\",\n",
    "          1 Pityriaseidae (Bristlehead)\\n\",\n",
    "         45 Platysteiridae (Wattle-eyes and Batises)\\n\",\n",
    "        154 Ploceidae (Weavers and Allies)\\n\",\n",
    "          1 Pluvianellidae (Magellanic Plover)\\n\",\n",
    "          1 Pluvianidae (Egyptian Plover)\\n\",\n",
    "          7 Pnoepygidae (Cupwings)\\n\",\n",
    "         23 Podargidae (Frogmouths)\\n\",\n",
    "         31 Podicipedidae (Grebes)\\n\",\n",
    "         30 Polioptilidae (Gnatcatchers)\\n\",\n",
    "          5 Pomatostomidae (Pseudo-Babblers)\\n\",\n",
    "        144 Procellariidae (Shearwaters and Petrels)\\n\",\n",
    "          5 Promeropidae (Sugarbirds)\\n\",\n",
    "         14 Prunellidae (Accentors)\\n\",\n",
    "        251 Psittacidae (New World and African Parrots)\\n\",\n",
    "        226 Psittaculidae (Old World Parrots)\\n\",\n",
    "         11 Psophiidae (Trumpeters)\\n\",\n",
    "          5 Psophodidae (Whipbirds and Wedgebills)\\n\",\n",
    "         24 Pteroclidae (Sandgrouse)\\n\",\n",
    "          4 Ptiliogonatidae (Silky-flycatchers)\\n\",\n",
    "         28 Ptilonorhynchidae (Bowerbirds)\\n\",\n",
    "        200 Pycnonotidae (Bulbuls)\\n\",\n",
    "        203 \\\"Rallidae (Rails\\n\",\n",
    "         64 Ramphastidae (Toucans)\\n\",\n",
    "         19 Recurvirostridae (Stilts and Avocets)\\n\",\n",
    "         13 Regulidae (Kinglets)\\n\",\n",
    "         16 Remizidae (Penduline-Tits)\\n\",\n",
    "          1 Rhagologidae (Mottled Berryhunter)\\n\",\n",
    "          4 Rheidae (Rheas)\\n\",\n",
    "         75 Rhinocryptidae (Tapaculos)\\n\",\n",
    "         86 Rhipiduridae (Fantails)\\n\",\n",
    "          1 Rhynochetidae (Kagu)\\n\",\n",
    "          3 Rostratulidae (Painted-Snipes)\\n\",\n",
    "          1 Sagittariidae (Secretary-bird)\\n\",\n",
    "          1 Sapayoidae (Sapayoa)\\n\",\n",
    "         15 Sarothruridae (Flufftails)\\n\",\n",
    "        158 Scolopacidae (Sandpipers and Allies)\\n\",\n",
    "          1 Scopidae (Hamerkop)\\n\",\n",
    "          2 Semnornithidae (Toucan-Barbets)\\n\",\n",
    "         37 Sittidae (Nuthatches)\\n\",\n",
    "         21 Spheniscidae (Penguins)\\n\",\n",
    "          1 Steatornithidae (Oilbird)\\n\",\n",
    "         11 Stenostiridae (Fairy Flycatchers)\\n\",\n",
    "         16 Stercorariidae (Skuas and Jaegers)\\n\",\n",
    "        318 Strigidae (Owls)\\n\",\n",
    "          4 Strigopidae (New Zealand Parrots)\\n\",\n",
    "          2 Struthionidae (Ostriches)\\n\",\n",
    "        147 Sturnidae (Starlings)\\n\",\n",
    "         21 Sulidae (Boobies and Gannets)\\n\",\n",
    "         47 Sylviidae (Sylviid Warblers)\\n\",\n",
    "        298 Thamnophilidae (Typical Antbirds)\\n\",\n",
    "          4 Thinocoridae (Seedsnipes)\\n\",\n",
    "        505 Thraupidae (Tanagers and Allies)\\n\",\n",
    "         44 Threskiornithidae (Ibises and Spoonbills)\\n\",\n",
    "          1 Tichodromidae (Wallcreeper)\\n\",\n",
    "         67 \\\"Timaliidae (Tree-Babblers\\n\",\n",
    "         57 Tinamidae (Tinamous)\\n\",\n",
    "         44 Tityridae (Tityras and Allies)\\n\",\n",
    "          6 Todidae (Todies)\\n\",\n",
    "        472 Trochilidae (Hummingbirds)\\n\",\n",
    "        165 Troglodytidae (Wrens)\\n\",\n",
    "         61 Trogonidae (Trogons)\\n\",\n",
    "        295 Turdidae (Thrushes and Allies)\\n\",\n",
    "         19 Turnicidae (Buttonquail)\\n\",\n",
    "        617 Tyrannidae (Tyrant Flycatchers)\\n\",\n",
    "         35 Tytonidae (Barn-Owls)\\n\",\n",
    "          5 Upupidae (Hoopoes)\\n\",\n",
    "          1 Urocynchramidae (Przevalski's Pinktail)\\n\",\n",
    "         54 \\\"Vangidae (Vangas\\n\",\n",
    "         23 Viduidae (Indigobirds)\\n\",\n",
    "        108 \\\"Vireonidae (Vireos\\n\",\n",
    "        147 \\\"Zosteropidae (White-eyes)\\n\",  \n",
    "'''"
   ]
  },
  {
   "cell_type": "markdown",
   "metadata": {
    "collapsed": false
   },
   "source": [
    "## 2. "
   ]
  },
  {
   "cell_type": "code",
   "execution_count": 1,
   "metadata": {
    "collapsed": false
   },
   "outputs": [
    {
     "name": "stdout",
     "output_type": "stream",
     "text": [
      "{'Ammoperdix_griseogularis': 'Phasianidae', 'Aegithina_viridissima': 'Aegithinidae', 'Bucco_capensis': 'Bucconidae', 'Microhierax_caerulescens': 'Falconidae', 'Ichthyophaga_humilis': 'Accipitridae', 'Cryptospiza_shelleyi': 'Estrildidae', 'Hemiprocne_comata': 'Hemiprocnidae', 'Suiriri_suiriri': 'Tyrannidae', 'Phyllomyias_burmeisteri': 'Tyrannidae', 'Balearica_regulorum': 'Gruidae', 'Stresemannia_bougainvillei': 'Meliphagidae', 'Harpia_harpyja': 'Accipitridae', 'Cheramoeca_leucosterna': 'Hirundinidae', 'Philetairus_socius': 'Passeridae', 'Dichrozona_cincta': 'Thamnophilidae', 'Serinus_scotops': 'Fringillidae', 'Gymnomyza_aubryana': 'Meliphagidae', 'Ampelion_rubrocristatus': 'Cotingidae', 'Lepidothrix_coronata': 'Pipridae', 'Pelagodroma_marina': 'Hydrobatidae', 'Podargus_strigoides': 'Podargidae', 'Dolichonyx_oryzivorus': 'Icteridae', 'Phaeomyias_murina': 'Tyrannidae', 'Geopelia_striata': 'Columbidae', 'Geositta_tenuirostris': 'Furnariidae', 'Incana_incana': 'Cisticolidae', 'Lepidocolaptes_souleyetii': 'Dendrocolaptidae', 'Pluvianus_aegyptius': 'Glareolidae', 'Ashbyia_lovensis': 'Meliphagidae', 'Pyrilia_pyrilia': 'Psittacidae', 'Tanygnathus_megalorynchos': 'Psittacidae', 'Megalaima_haemacephala': 'Ramphastidae', 'Arremon_schlegeli': 'Emberizidae', 'Tryngites_subruficollis': 'Scolopacidae', 'Ciconia_maguari': 'Ciconiidae', 'Xiphorhynchus_obsoletus': 'Dendrocolaptidae', 'Calamanthus_fuliginosus': 'Acanthizidae', 'Hirundo_rupestris': 'Hirundinidae', 'Zoothera_andromedae': 'Turdidae', 'Snowornis_subalaris': 'Cotingidae', 'Alisterus_amboinensis': 'Psittacidae', 'Malacoptila_fusca': 'Bucconidae', 'Neochmia_temporalis': 'Estrildidae', 'Bubalornis_albirostris': 'Ploceidae', 'Semnornis_frantzii': 'Ramphastidae', 'Helicolestes_hamatus': 'Accipitridae', 'Xenodacnis_parina': 'Thraupidae', 'Nyctidromus_albicollis': 'Caprimulgidae', 'Mniotilta_varia': 'Parulidae', 'Touit_surdus': 'Psittacidae', 'Sporophila_luctuosa': 'Emberizidae', 'Pluvianellus_socialis': 'Chionidae', 'Drymodes_superciliaris': 'Petroicidae', 'Poephila_personata': 'Estrildidae', 'Hypogramma_hypogrammicum': 'Nectariniidae', 'Irediparra_gallinacea': 'Jacanidae', 'Grallaricula_flavirostris': 'Formicariidae', 'Aphanotriccus_capitalis': 'Tyrannidae', 'Fulica_armillata': 'Rallidae', 'Lichenostomus_subfrenatus': 'Meliphagidae', 'Seiurus_aurocapilla': 'Parulidae', 'Neopsephotus_bourkii': 'Psittacidae', 'Delothraupis_castaneoventris': 'Thraupidae', 'Myiopsitta_monachus': 'Psittacidae', 'Grandala_coelicolor': 'Muscicapidae', 'Formicarius_colma': 'Formicariidae', 'Buteo_galapagoensis': 'Accipitridae', 'Conirostrum_albifrons': 'Thraupidae', 'Rhodinocichla_rosea': 'Thraupidae', 'Butastur_rufipennis': 'Accipitridae', 'Malimbus_coronatus': 'Ploceidae', 'Apalis_thoracica': 'Cisticolidae', 'Lopholaimus_antarcticus': 'Columbidae', 'Platysmurus_leucopterus': 'Corvidae', 'Tylas_eduardi': 'Vangidae', 'Eupodotis_savilei': 'Otididae', 'Ptilinopus_magnificus': 'Columbidae', 'Dicaeum_pygmaeum': 'Dicaeidae', 'Pardalotus_quadragintus': 'Pardalotidae', 'Syrrhaptes_tibetanus': 'Pteroclididae', 'Lagopus_lagopus': 'Phasianidae', 'Branta_bernicla': 'Anatidae', 'Pseudonestor_xanthophrys': 'Fringillidae', 'Ognorhynchus_icterotis': 'Psittacidae', 'Eulipoa_wallacei': 'Megapodiidae', 'Polysticta_stelleri': 'Anatidae', 'Melanodryas_cucullata': 'Petroicidae', 'Icteria_virens': 'Parulidae', 'Sypheotides_indicus': 'Otididae', 'Anthus_novaeseelandiae': 'Motacillidae', 'Aimophila_botterii': 'Emberizidae', 'Euplectes_afer': 'Ploceidae', 'Melithreptus_lunatus': 'Meliphagidae', 'Ixonotus_guttatus': 'Pycnonotidae', 'Ochthornis_littoralis': 'Tyrannidae', 'Attagis_gayi': 'Thinocoridae', 'Pipile_cumanensis': 'Cracidae', 'Catoptrophorus_semipalmatus': 'Scolopacidae', 'Sarcops_calvus': 'Sturnidae', 'Halcyon_smyrnensis': 'Alcedinidae', 'Euscarthmus_meloryphus': 'Tyrannidae', 'Lalage_melanoleuca': 'Campephagidae', 'Thamnophilus_doliatus': 'Thamnophilidae', 'Cissa_hypoleuca': 'Corvidae', 'Oreostruthus_fuliginosus': 'Estrildidae', 'Chaetura_pelagica': 'Apodidae', 'Macrodipteryx_vexillarius': 'Caprimulgidae', 'Cymbilaimus_lineatus': 'Thamnophilidae', 'Agriornis_montanus': 'Tyrannidae', 'Pterocles_gutturalis': 'Pteroclididae', 'Alectura_lathami': 'Megapodiidae', 'Nicator_chloris': 'Pycnonotidae', 'Baeolophus_bicolor': 'Paridae', 'Jacana_spinosa': 'Jacanidae', 'Haliastur_sphenurus': 'Accipitridae', 'Saltator_coerulescens': 'Cardinalidae', 'Ramphocaenus_melanurus': 'Polioptilidae', 'Ptiloris_intercedens': 'Paradisaeidae', 'Rhynchopsitta_pachyrhyncha': 'Psittacidae', 'Hylomanes_momotula': 'Momotidae', 'Vidua_chalybeata': 'Viduidae', 'Coenocorypha_pusilla': 'Scolopacidae', 'Lathrotriccus_euleri': 'Tyrannidae', 'Syma_torotoro': 'Alcedinidae', 'Corythaeola_cristata': 'Musophagidae', 'Anthocephala_floriceps': 'Trochilidae', 'Formicivora_grisea': 'Thamnophilidae', 'Microligea_palustris': 'Parulidae', 'Speirops_leucophoeus': 'Zosteropidae', 'Mitrephanes_phaeocercus': 'Tyrannidae', 'Pygiptila_stellaris': 'Thamnophilidae', 'Anthochaera_chrysoptera': 'Meliphagidae', 'Halocyptena_microsoma': 'Hydrobatidae', 'Psephotus_varius': 'Psittacidae', 'Tinamus_guttatus': 'Tinamidae', 'Ensifera_ensifera': 'Trochilidae', 'Piaya_cayana': 'Cuculidae', 'Lophorina_superba': 'Paradisaeidae', 'Tregellasia_capito': 'Petroicidae', 'Xenopirostris_xenopirostris': 'Vangidae', 'Calyptomena_viridis': 'Eurylaimidae', 'Mystacornis_crossleyi': 'Vangidae', 'Thlypopsis_ruficeps': 'Thraupidae', 'Erpornis_zantholeuca': 'Timaliidae', 'Terpsiphone_rufiventer': 'Monarchidae', 'Hemitriccus_minor': 'Tyrannidae', 'Ocreatus_underwoodii': 'Trochilidae', 'Neoxolmis_rufiventris': 'Tyrannidae', 'Coracopsis_vasa': 'Psittacidae', 'Uropelia_campestris': 'Columbidae', 'Oxyura_jamaicensis': 'Anatidae', 'Uragus_sibiricus': 'Fringillidae', 'Foudia_madagascariensis': 'Ploceidae', 'Spiza_americana': 'Cardinalidae', 'Nannopsittaca_panychlora': 'Psittacidae', 'Timeliopsis_fulvigula': 'Meliphagidae', 'Peneothello_sigillatus': 'Petroicidae', 'Passerella_iliaca': 'Emberizidae', 'Anseranas_semipalmata': 'Anseranatidae', 'Crocias_albonotatus': 'Timaliidae', 'Meiglyptes_tristis': 'Picidae', 'Veniliornis_lignarius': 'Picidae', 'Chrysomus_icterocephalus': 'Icteridae', 'Chrysococcyx_minutillus': 'Cuculidae', 'Machaeropterus_pyrocephalus': 'Pipridae', 'Malacorhynchus_membranaceus': 'Anatidae', 'Uraeginthus_bengalus': 'Estrildidae', 'Hylonympha_macrocerca': 'Trochilidae', 'Prosopeia_splendens': 'Psittacidae', 'Saroglossa_spiloptera': 'Sturnidae', 'Pluvialis_squatarola': 'Charadriidae', 'Threskiornis_aethiopicus': 'Threskiornithidae', 'Psophodes_olivaceus': 'Eupetidae', 'Oreoscoptes_montanus': 'Mimidae', 'Chlorocharis_emiliae': 'Zosteropidae', 'Macrocephalon_maleo': 'Megapodiidae', 'Rhopophilus_pekinensis': 'Cisticolidae', 'Chaetornis_striata': 'Sylviidae', 'Prionodura_newtoniana': 'Ptilonorhynchidae', 'Clypicterus_oseryi': 'Icteridae', 'Platysteira_castanea': 'Platysteiridae', 'Spizocorys_conirostris': 'Alaudidae', 'Locustella_luscinioides': 'Sylviidae', 'Ibycter_americanus': 'Falconidae', 'Chaetops_aurantius': 'Turdidae', 'Plectropterus_gambensis': 'Anatidae', 'Nesospingus_speculiferus': 'Thraupidae', 'Ptilogonys_cinereus': 'Bombycillidae', 'Argusianus_argus': 'Phasianidae', 'Psittacella_madaraszi': 'Psittacidae', 'Dives_dives': 'Icteridae', 'Pycnonotus_sinensis': 'Pycnonotidae', 'Pachycoccyx_audeberti': 'Cuculidae', 'Coryphaspiza_melanotis': 'Emberizidae', 'Electron_carinatum': 'Momotidae', 'Neocossyphus_poensis': 'Turdidae', 'Ithaginis_cruentus': 'Phasianidae', 'Rhamphocoris_clotbey': 'Alaudidae', 'Phylloscartes_eximius': 'Tyrannidae', 'Cacicus_cela': 'Icteridae', 'Haplochelidon_andecola': 'Hirundinidae', 'Clamator_jacobinus': 'Cuculidae', 'Houbaropsis_bengalensis': 'Otididae', 'Eulidia_yarrellii': 'Trochilidae', 'Semioptera_wallacii': 'Paradisaeidae', 'Agelaius_phoeniceus': 'Icteridae', 'Dendroplex_picus': 'Dendrocolaptidae', 'Anser_fabalis': 'Anatidae', 'Pygochelidon_cyanoleuca': 'Hirundinidae', 'Aramus_guarauna': 'Aramidae', 'Cinclidium_diana': 'Muscicapidae', 'Gallus_gallus': 'Phasianidae', 'Reinwardtoena_reinwardtsi': 'Columbidae', 'Aegithalos_concinnus': 'Aegithalidae', 'Cairina_moschata': 'Anatidae', 'Alopochelidon_fucata': 'Hirundinidae', 'Basilornis_mirandus': 'Sturnidae', 'Orthotomus_cuculatus': 'Sylviidae', 'Circaetus_gallicus': 'Accipitridae', 'Pithys_albifrons': 'Thamnophilidae', 'Strigops_habroptila': 'Psittacidae', 'Bombycilla_garrulus': 'Bombycillidae', 'Hymenolaimus_malacorhynchos': 'Anatidae', 'Probosciger_aterrimus': 'Psittacidae', 'Plegadis_falcinellus': 'Threskiornithidae', 'Capsiempis_flaveola': 'Tyrannidae', 'Illadopsis_cleaveri': 'Timaliidae', 'Contopus_cooperi': 'Tyrannidae', 'Heliangelus_mavors': 'Trochilidae', 'Stercorarius_longicaudus': 'Stercorariidae', 'Sericornis_citreogularis': 'Acanthizidae', 'Chlidonias_hybrida': 'Laridae', 'Opisthocomus_hoazin': 'Opisthocomidae', 'Rhabdornis_mystacalis': 'Rhabdornithidae', 'Chloropeta_natalensis': 'Sylviidae', 'Megadyptes_antipodes': 'Spheniscidae', 'Haliaeetus_albicilla': 'Accipitridae', 'Phyllanthus_atripennis': 'Timaliidae', 'Turdus_pallidus': 'Turdidae', 'Lanio_fulvus': 'Thraupidae', 'Harpactes_fasciatus': 'Trogonidae', 'Colaptes_campestris': 'Picidae', 'Ptilopachus_petrosus': 'Phasianidae', 'Talegalla_cuvieri': 'Megapodiidae', 'Harpagus_bidentatus': 'Accipitridae', 'Urolestes_melanoleucus': 'Laniidae', 'Oriolia_bernieri': 'Vangidae', 'Sarkidiornis_melanotos': 'Anatidae', 'Cyanopsitta_spixii': 'Psittacidae', 'Chalcophaps_indica': 'Columbidae', 'Brachycope_anomala': 'Ploceidae', 'Grus_rubicunda': 'Gruidae', 'Salpornis_spilonotus': 'Certhiidae', 'Heliodoxa_imperatrix': 'Trochilidae', 'Lophonetta_specularioides': 'Anatidae', 'Ocyceros_griseus': 'Bucerotidae', 'Anaplectes_rubriceps': 'Ploceidae', 'Fregata_ariel': 'Fregatidae', 'Casiornis_rufus': 'Tyrannidae', 'Eumomota_superciliosa': 'Momotidae', 'Coccycolius_iris': 'Sturnidae', 'Coccothraustes_vespertinus': 'Fringillidae', 'Pericrocotus_flammeus': 'Campephagidae', 'Porzana_parva': 'Rallidae', 'Catharopeza_bishopi': 'Parulidae', 'Sigelus_silens': 'Muscicapidae', 'Gallicrex_cinerea': 'Rallidae', 'Zoonavena_sylvatica': 'Apodidae', 'Lorius_chlorocercus': 'Psittacidae', 'Pitta_steerii': 'Pittidae', 'Gymnorhina_tibicen': 'Cracticidae', 'Lampropsar_tanagrinus': 'Icteridae', 'Oedistoma_pygmaeum': 'Melanocharitidae', 'Chloroceryle_inda': 'Alcedinidae', 'Rhytipterna_simplex': 'Tyrannidae', 'Chelidorhynx_hypoxantha': 'Rhipiduridae', 'Poeoptera_lugubris': 'Sturnidae', 'Monarcha_axillaris': 'Monarchidae', 'Neoctantes_niger': 'Thamnophilidae', 'Sclerurus_rufigularis': 'Furnariidae', 'Rostratula_benghalensis': 'Rostratulidae', 'Furnarius_rufus': 'Furnariidae', 'Pygarrhichas_albogularis': 'Furnariidae', 'Cyanerpes_nitidus': 'Thraupidae', 'Elminia_longicauda': 'Monarchidae', 'Heliactin_bilophus': 'Trochilidae', 'Pedionomus_torquatus': 'Pedionomidae', 'Empidonomus_varius': 'Tyrannidae', 'Pulsatrix_perspicillata': 'Strigidae', 'Pyrrhula_murina': 'Fringillidae', 'Phalaenoptilus_nuttallii': 'Caprimulgidae', 'Glaucidium_brasilianum': 'Strigidae', 'Rhinopomastus_cyanomelas': 'Phoeniculidae', 'Dendrortyx_macroura': 'Odontophoridae', 'Ixobrychus_cinnamomeus': 'Ardeidae', 'Cacatua_moluccensis': 'Psittacidae', 'Vultur_gryphus': 'Cathartidae', 'Bucephala_clangula': 'Anatidae', 'Progne_subis': 'Hirundinidae', 'Coscoroba_coscoroba': 'Anatidae', 'Hieraaetus_spilogaster': 'Accipitridae', 'Aegypius_monachus': 'Accipitridae', 'Aceros_narcondami': 'Bucerotidae', 'Neolestes_torquatus': 'Pycnonotidae', 'Zonerodius_heliosylus': 'Ardeidae', 'Xanthopsar_flavus': 'Icteridae', 'Catherpes_mexicanus': 'Troglodytidae', 'Speculipastor_bicolor': 'Sturnidae', 'Heliolais_erythropterus': 'Cisticolidae', 'Hypnelus_ruficollis': 'Bucconidae', 'Cyrtonyx_montezumae': 'Odontophoridae', 'Poospiza_alticola': 'Emberizidae', 'Alcippe_ruficapilla': 'Timaliidae', 'Parus_major': 'Paridae', 'Buteogallus_anthracinus': 'Accipitridae', 'Ploceus_insignis': 'Ploceidae', 'Picoides_pubescens': 'Picidae', 'Ptyrticus_turdinus': 'Timaliidae', 'Serilophus_lunatus': 'Eurylaimidae', 'Mearnsia_novaeguineae': 'Apodidae', 'Phacellodomus_rufifrons': 'Furnariidae', 'Poliocephalus_poliocephalus': 'Podicipedidae', 'Ilicura_militaris': 'Pipridae', 'Spelaeornis_troglodytoides': 'Timaliidae', 'Chionis_albus': 'Chionidae', 'Pelecanoides_magellani': 'Pelecanoididae', 'Myiarchus_semirufus': 'Tyrannidae', 'Monticola_saxatilis': 'Muscicapidae', 'Lophodytes_cucullatus': 'Anatidae', 'Alophoixus_finschii': 'Pycnonotidae', 'Tarphonomus_certhioides': 'Furnariidae', 'Culicivora_caudacuta': 'Tyrannidae', 'Pinarornis_plumosus': 'Muscicapidae', 'Eudyptes_robustus': 'Spheniscidae', 'Oriturus_superciliosus': 'Emberizidae', 'Astrapia_splendidissima': 'Paradisaeidae', 'Melitograis_gilolensis': 'Meliphagidae', 'Bycanistes_bucinator': 'Bucerotidae', 'Fratercula_corniculata': 'Alcidae', 'Pionus_sordidus': 'Psittacidae', 'Chelidoptera_tenebrosa': 'Bucconidae', 'Aythya_ferina': 'Anatidae', 'Lugensa_brevirostris': 'Procellariidae', 'Phleocryptes_melanops': 'Furnariidae', 'Alauda_arvensis': 'Alaudidae', 'Psaltriparus_minimus': 'Aegithalidae', 'Tachymarptis_melba': 'Apodidae', 'Ancistrops_strigilatus': 'Furnariidae', 'Nemosia_pileata': 'Thraupidae', 'Myrmornis_torquata': 'Thamnophilidae', 'Oreotrochilus_chimborazo': 'Trochilidae', 'Atlapetes_seebohmi': 'Emberizidae', 'Melanospiza_richardsoni': 'Emberizidae', 'Laniarius_poensis': 'Malaconotidae', 'Leucopeza_semperi': 'Parulidae', 'Drymocichla_incana': 'Cisticolidae', 'Philemon_novaeguineae': 'Meliphagidae', 'Creurgops_verticalis': 'Thraupidae', 'Heliornis_fulica': 'Heliornithidae', 'Pelargopsis_melanorhyncha': 'Alcedinidae', 'Leipoa_ocellata': 'Megapodiidae', 'Cyornis_tickelliae': 'Muscicapidae', 'Ramphocelus_costaricensis': 'Thraupidae', 'Eurylaimus_steerii': 'Eurylaimidae', 'Thinocorus_rumicivorus': 'Thinocoridae', 'Minla_cyanouroptera': 'Timaliidae', 'Junco_hyemalis': 'Emberizidae', 'Phaps_chalcoptera': 'Columbidae', 'Leptoptilos_javanicus': 'Ciconiidae', 'Morphnus_guianensis': 'Accipitridae', 'Oreocharis_arfaki': 'Melanocharitidae', 'Uropsila_leucogastra': 'Troglodytidae', 'Calorhamphus_fuliginosus': 'Ramphastidae', 'Myrmorchilus_strigilatus': 'Thamnophilidae', 'Trichodere_cockerelli': 'Meliphagidae', 'Glareola_pratincola': 'Glareolidae', 'Struthidea_cinerea': 'Corcoracidae', 'Iodopleura_fusca': 'Cotingidae', 'Gallirallus_torquatus': 'Rallidae', 'Myiodynastes_hemichrysus': 'Tyrannidae', 'Herpetotheres_cachinnans': 'Falconidae', 'Premnornis_guttuligera': 'Furnariidae', 'Himantornis_haematopus': 'Rallidae', 'Pitohui_dichrous': 'Colluricinclidae', 'Stachyris_ambigua': 'Timaliidae', 'Habia_cristata': 'Cardinalidae', 'Metopothrix_aurantiaca': 'Furnariidae', 'Sicalis_citrina': 'Emberizidae', 'Esacus_recurvirostris': 'Burhinidae', 'Certhidea_olivacea': 'Emberizidae', 'Amaurospiza_concolor': 'Cardinalidae', 'Metriopelia_ceciliae': 'Columbidae', 'Tauraco_erythrolophus': 'Musophagidae', 'Oreolais_pulchra': 'Cisticolidae', 'Quelea_erythrops': 'Ploceidae', 'Thamnistes_anabatinus': 'Thamnophilidae', 'Metallura_williami': 'Trochilidae', 'Acropternis_orthonyx': 'Rhinocryptidae', 'Myiagra_alecto': 'Monarchidae', 'Babax_waddelli': 'Timaliidae', 'Zimmerius_vilissimus': 'Tyrannidae', 'Boissonneaua_flavescens': 'Trochilidae', 'Scelorchilus_rubecula': 'Rhinocryptidae', 'Threnetes_niger': 'Trochilidae', 'Cochoa_purpurea': 'Turdidae', 'Rhodothraupis_celaeno': 'Cardinalidae', 'Cyanopica_cyanus': 'Corvidae', 'Aegotheles_cristatus': 'Aegothelidae', 'Horizorhinus_dohrni': 'Timaliidae', 'Nothocercus_bonapartei': 'Tinamidae', 'Oreopholus_ruficollis': 'Charadriidae', 'Hypositta_corallirostris': 'Vangidae', 'Rhodopis_vesper': 'Trochilidae', 'Spheniscus_demersus': 'Spheniscidae', 'Phainopepla_nitens': 'Bombycillidae', 'Arremonops_conirostris': 'Emberizidae', 'Graminicola_bengalensis': 'Sylviidae', 'Pyrrhoplectes_epauletta': 'Fringillidae', 'Cichlocolaptes_leucophrus': 'Furnariidae', 'Microrhopias_quixensis': 'Thamnophilidae', 'Megastictus_margaritatus': 'Thamnophilidae', 'Eubucco_richardsoni': 'Ramphastidae', 'Geococcyx_californianus': 'Cuculidae', 'Podilymbus_podiceps': 'Podicipedidae', 'Emberizoides_herbicola': 'Emberizidae', 'Cercomacra_cinerascens': 'Thamnophilidae', 'Pytilia_melba': 'Estrildidae', 'Gavia_stellata': 'Gaviidae', 'Nesoenas_picturata': 'Columbidae', 'Agamia_agami': 'Ardeidae', 'Sturnella_loyca': 'Icteridae', 'Turnix_sylvaticus': 'Turnicidae', 'Rowettia_goughensis': 'Emberizidae', 'Chersophilus_duponti': 'Alaudidae', 'Anthracothorax_viridigula': 'Trochilidae', 'Lullula_arborea': 'Alaudidae', 'Urocissa_caerulea': 'Corvidae', 'Doricha_enicura': 'Trochilidae', 'Harpyhaliaetus_solitarius': 'Accipitridae', 'Pteruthius_rufiventer': 'Timaliidae', 'Alcedo_pusilla': 'Alcedinidae', 'Rhinocrypta_lanceolata': 'Rhinocryptidae', 'Ptilocichla_leucogrammica': 'Timaliidae', 'Melanochlora_sultanea': 'Paridae', 'Otis_tarda': 'Otididae', 'Mandingoa_nitidula': 'Estrildidae', 'Percnostola_rufifrons': 'Thamnophilidae', 'Barnardius_zonarius': 'Psittacidae', 'Acanthidops_bairdii': 'Emberizidae', 'Dactylortyx_thoracicus': 'Odontophoridae', 'Seicercus_montis': 'Sylviidae', 'Xenocopsychus_ansorgei': 'Muscicapidae', 'Todirostrum_maculatum': 'Tyrannidae', 'Blythipicus_rubiginosus': 'Picidae', 'Stizorhina_finschi': 'Turdidae', 'Remiz_pendulinus': 'Remizidae', 'Malurus_cyaneus': 'Maluridae', 'Alethe_poliophrys': 'Turdidae', 'Pooecetes_gramineus': 'Emberizidae', 'Aphelocephala_leucopsis': 'Acanthizidae', 'Certhionyx_variegatus': 'Meliphagidae', 'Palmeria_dolei': 'Fringillidae', 'Chrysolampis_mosquitus': 'Trochilidae', 'Nothura_darwinii': 'Tinamidae', 'Chlamydotis_undulata': 'Otididae', 'Limnoctites_rectirostris': 'Furnariidae', 'Erythrogonys_cinctus': 'Charadriidae', 'Melanitta_nigra': 'Anatidae', 'Willisornis_poecilinotus': 'Thamnophilidae', 'Cursorius_cursor': 'Glareolidae', 'Amadina_fasciata': 'Estrildidae', 'Campephilus_pollens': 'Picidae', 'Gampsonyx_swainsonii': 'Accipitridae', 'Eremalauda_starki': 'Alaudidae', 'Busarellus_nigricollis': 'Accipitridae', 'Myadestes_occidentalis': 'Turdidae', 'Sipodotus_wallacii': 'Maluridae', 'Rhynchortyx_cinctus': 'Odontophoridae', 'Burhinus_superciliaris': 'Burhinidae', 'Melichneutes_robustus': 'Indicatoridae', 'Scotopelia_peli': 'Strigidae', 'Donacospiza_albifrons': 'Emberizidae', 'Balaeniceps_rex': 'Balaenicipitidae', 'Lophozosterops_dohertyi': 'Zosteropidae', 'Athene_noctua': 'Strigidae', 'Ampeliceps_coronatus': 'Sturnidae', 'Sphyrapicus_varius': 'Picidae', 'Empidonax_affinis': 'Tyrannidae', 'Pseudobulweria_aterrima': 'Procellariidae', 'Pseudoalcippe_abyssinica': 'Timaliidae', 'Neotis_denhami': 'Otididae', 'Hamirostra_melanosternon': 'Accipitridae', 'Hylorchilus_sumichrasti': 'Troglodytidae', 'Aplopelia_larvata': 'Columbidae', 'Phibalura_flavirostris': 'Cotingidae', 'Carduelis_psaltria': 'Fringillidae', 'Rhodophoneus_cruentus': 'Malaconotidae', 'Pteridophora_alberti': 'Paradisaeidae', 'Torreornis_inexpectata': 'Emberizidae', 'Abroscopus_schisticeps': 'Sylviidae', 'Malacopteron_magnum': 'Timaliidae', 'Erythrura_gouldiae': 'Estrildidae', 'Tanysiptera_galatea': 'Alcedinidae', 'Pionopsitta_pileata': 'Psittacidae', 'Dendragapus_obscurus': 'Phasianidae', 'Grallina_cyanoleuca': 'Monarchidae', 'Batrachostomus_affinis': 'Podargidae', 'Heliobletus_contaminatus': 'Furnariidae', 'Serpophaga_cinerea': 'Tyrannidae', 'Xenus_cinereus': 'Scolopacidae', 'Schistochlamys_ruficapillus': 'Thraupidae', 'Eurochelidon_sirintarae': 'Hirundinidae', 'Alectrurus_tricolor': 'Tyrannidae', 'Petrochelidon_pyrrhonota': 'Hirundinidae', 'Lophornis_gouldii': 'Trochilidae', 'Phoeniculus_purpureus': 'Phoeniculidae', 'Grafisia_torquata': 'Sturnidae', 'Phylloscopus_canariensis': 'Sylviidae', 'Passerculus_sandwichensis': 'Emberizidae', 'Camaroptera_chloronota': 'Cisticolidae', 'Cotinga_amabilis': 'Cotingidae', 'Cosmopsarus_regius': 'Sturnidae', 'Crex_crex': 'Rallidae', 'Poliolais_lopezi': 'Sylviidae', 'Actophilornis_albinucha': 'Jacanidae', 'Neomorphus_geoffroyi': 'Cuculidae', 'Aepypodius_arfakianus': 'Megapodiidae', 'Charadrius_vociferus': 'Charadriidae', 'Herpsilochmus_rufimarginatus': 'Thamnophilidae', 'Muscigralla_brevicauda': 'Tyrannidae', 'Thamnornis_chloropetoides': 'Sylviidae', 'Tigrisoma_lineatum': 'Ardeidae', 'Aratinga_weddellii': 'Psittacidae', 'Climacteris_affinis': 'Climacteridae', 'Zonotrichia_querula': 'Emberizidae', 'Oreoscopus_gutturalis': 'Acanthizidae', 'Pernis_apivorus': 'Accipitridae', 'Microdynamis_parva': 'Cuculidae', 'Hylophylax_naevioides': 'Thamnophilidae', 'Falcunculus_frontatus': 'Falcunculidae', 'Pyroderus_scutatus': 'Cotingidae', 'Xiphocolaptes_promeropirhynchus': 'Dendrocolaptidae', 'Pteroptochos_tarnii': 'Rhinocryptidae', 'Cranioleuca_vulpecula': 'Furnariidae', 'Heteromyias_albispecularis': 'Petroicidae', 'Ara_severus': 'Psittacidae', 'Ortyxelos_meiffrenii': 'Turnicidae', 'Saxicola_leucurus': 'Muscicapidae', 'Atalotriccus_pilaris': 'Tyrannidae', 'Alipiopsitta_xanthops': 'Psittacidae', 'Tyrannulus_elatus': 'Tyrannidae', 'Tachyeres_pteneres': 'Anatidae', 'Nonnula_ruficapilla': 'Bucconidae', 'Alopochen_aegyptiaca': 'Anatidae', 'Lamprolaima_rhami': 'Trochilidae', 'Sylviorthorhynchus_desmursii': 'Furnariidae', 'Panurus_biarmicus': 'Timaliidae', 'Polioxolmis_rufipennis': 'Tyrannidae', 'Dinopium_rafflesii': 'Picidae', 'Myiomela_major': 'Muscicapidae', 'Leucosarcia_melanoleuca': 'Columbidae', 'Tachybaptus_ruficollis': 'Podicipedidae', 'Aeronautes_andecolus': 'Apodidae', 'Gypaetus_barbatus': 'Accipitridae', 'Uria_aalge': 'Alcidae', 'Eulacestoma_nigropectus': 'Falcunculidae', 'Nesocichla_eremita': 'Turdidae', 'Cinclodes_fuscus': 'Furnariidae', 'Chaimarrornis_leucocephalus': 'Muscicapidae', 'Picumnus_innominatus': 'Picidae', 'Crax_rubra': 'Cracidae', 'Cinclocerthia_ruficauda': 'Mimidae', 'Lanius_minor': 'Laniidae', 'Rhodopechys_sanguineus': 'Fringillidae', 'Surniculus_lugubris': 'Cuculidae', 'Drymornis_bridgesii': 'Dendrocolaptidae', 'Cormobates_leucophaea': 'Climacteridae', 'Tyranneutes_stolzmanni': 'Pipridae', 'Buettikoferella_bivittata': 'Sylviidae', 'Thinornis_rubricollis': 'Charadriidae', 'Cracticus_mentalis': 'Cracticidae', 'Perdix_perdix': 'Phasianidae', 'Tachyphonus_surinamus': 'Thraupidae', 'Clytorhynchus_hamlini': 'Monarchidae', 'Pavo_cristatus': 'Phasianidae', 'Myiotheretes_striaticollis': 'Tyrannidae', 'Pyrrhocoma_ruficeps': 'Thraupidae', 'Platycercus_eximius': 'Psittacidae', 'Telespiza_cantans': 'Fringillidae', 'Pyrocephalus_rubinus': 'Tyrannidae', 'Pyrrhomyias_cinnamomeus': 'Tyrannidae', 'Apteryx_haastii': 'Apterygidae', 'Megazosterops_palauensis': 'Zosteropidae', 'Melanotis_caerulescens': 'Mimidae', 'Seleucidis_melanoleucus': 'Paradisaeidae', 'Myioparus_griseigularis': 'Muscicapidae', 'Cyanocorax_yncas': 'Corvidae', 'Pandion_haliaetus': 'Accipitridae', 'Cephalopterus_penduliger': 'Cotingidae', 'Accipiter_tachiro': 'Accipitridae', 'Cinclosoma_castaneothorax': 'Cinclosomatidae', 'Rallus_longirostris': 'Rallidae', 'Eupetes_macrocerus': 'Eupetidae', 'Galbula_ruficauda': 'Galbulidae', 'Calyptura_cristata': 'Cotingidae', 'Polyonymus_caroli': 'Trochilidae', 'Trochilus_polytmus': 'Trochilidae', 'Woodfordia_superciliosa': 'Zosteropidae', 'Muscisaxicola_maculirostris': 'Tyrannidae', 'Scytalopus_meridanus': 'Rhinocryptidae', 'Crotophaga_major': 'Cuculidae', 'Claravis_pretiosa': 'Columbidae', 'Cittura_cyanotis': 'Alcedinidae', 'Mergellus_albellus': 'Anatidae', 'Ptilonorhynchus_violaceus': 'Ptilonorhynchidae', 'Mesopicos_elliotii': 'Picidae', 'Ammodramus_savannarum': 'Emberizidae', 'Melopyrrha_nigra': 'Emberizidae', 'Biatas_nigropectus': 'Thamnophilidae', 'Anabacerthia_variegaticeps': 'Furnariidae', 'Henicorhina_leucosticta': 'Troglodytidae', 'Eminia_lepida': 'Cisticolidae', 'Hylia_prasina': 'Sylviidae', 'Apalopteron_familiare': 'Zosteropidae', 'Pachyramphus_viridis': 'Cotingidae', 'Rynchops_niger': 'Laridae', 'Corythopis_torquatus': 'Tyrannidae', 'Molothrus_oryzivorus': 'Icteridae', 'Phyllolais_pulchella': 'Cisticolidae', 'Amazilia_viridicauda': 'Trochilidae', 'Chloephaga_melanoptera': 'Anatidae', 'Selenidera_spectabilis': 'Ramphastidae', 'Sturnus_erythropygius': 'Sturnidae', 'Parula_americana': 'Parulidae', 'Parkerthraustes_humeralis': 'Cardinalidae', 'Hypothymis_azurea': 'Monarchidae', 'Nyctyornis_amictus': 'Meropidae', 'Parmoptila_woodhousei': 'Estrildidae', 'Macrosphenus_kretschmeri': 'Sylviidae', 'Helmitheros_vermivorum': 'Parulidae', 'Spreo_albicapillus': 'Sturnidae', 'Tropicranus_albocristatus': 'Bucerotidae', 'Padda_oryzivora': 'Estrildidae', 'Manacus_vitellinus': 'Pipridae', 'Iole_olivacea': 'Pycnonotidae', 'Leucopternis_plumbeus': 'Accipitridae', 'Neopelma_chrysocephalum': 'Pipridae', 'Crypsirina_cucullata': 'Corvidae', 'Dendrocitta_leucogastra': 'Corvidae', 'Taoniscus_nanus': 'Tinamidae', 'Sappho_sparganura': 'Trochilidae', 'Gubernetes_yetapa': 'Tyrannidae', 'Amazona_autumnalis': 'Psittacidae', 'Eudocimus_albus': 'Threskiornithidae', 'Leucochloris_albicollis': 'Trochilidae', 'Manucodia_comrii': 'Paradisaeidae', 'Conostoma_oemodium': 'Timaliidae', 'Northiella_haematogaster': 'Psittacidae', 'Thripadectes_melanorhynchus': 'Furnariidae', 'Urolais_epichlorus': 'Cisticolidae', 'Dinemellia_dinemelli': 'Ploceidae', 'Erythrocercus_holochlorus': 'Monarchidae', 'Guira_guira': 'Cuculidae', 'Eugralla_paradoxa': 'Rhinocryptidae', 'Calicalicus_madagascariensis': 'Vangidae', 'Psarocolius_decumanus': 'Icteridae', 'Amblyornis_macgregoriae': 'Ptilonorhynchidae', 'Garrulus_lidthi': 'Corvidae', 'Cepphus_grylle': 'Alcidae', 'Rhegmatorhina_gymnops': 'Thamnophilidae', 'Melilestes_megarhynchus': 'Meliphagidae', 'Milvus_milvus': 'Accipitridae', 'Neospiza_concolor': 'Fringillidae', 'Pomatostomus_ruficeps': 'Pomatostomidae', 'Lophotriorchis_kienerii': 'Accipitridae', 'Xenicus_gilviventris': 'Acanthisittidae', 'Eriocnemis_nigrivestis': 'Trochilidae', 'Catamblyrhynchus_diadema': 'Thraupidae', 'Apus_apus': 'Apodidae', 'Bonasa_bonasia': 'Phasianidae', 'Chalcopsitta_cardinalis': 'Psittacidae', 'Hypsipetes_mcclellandii': 'Pycnonotidae', 'Tilmatura_dupontii': 'Trochilidae', 'Dendronanthus_indicus': 'Motacillidae', 'Turdinus_macrodactylus': 'Timaliidae', 'Hylocryptus_rectirostris': 'Furnariidae', 'Merulaxis_ater': 'Rhinocryptidae', 'Psittacus_erithacus': 'Psittacidae', 'Leptopogon_amaurocephalus': 'Tyrannidae', 'Amytornis_barbatus': 'Maluridae', 'Cyanoloxia_glaucocaerulea': 'Cardinalidae', 'Pinicola_enucleator': 'Fringillidae', 'Pinaroloxias_inornata': 'Emberizidae', 'Xolmis_pyrope': 'Tyrannidae', 'Linurgus_olivaceus': 'Fringillidae', 'Gypsophila_crispifrons': 'Timaliidae', 'Crossleyia_xanthophrys': 'Sylviidae', 'Arborophila_mandellii': 'Phasianidae', 'Picathartes_oreas': 'Picathartidae', 'Tijuca_atra': 'Cotingidae', 'Phapitreron_leucotis': 'Columbidae', 'Paramythia_montium': 'Melanocharitidae', 'Basileuterus_flaveolus': 'Parulidae', 'Stiphrornis_erythrothorax': 'Muscicapidae', 'Monasa_nigrifrons': 'Bucconidae', 'Berlepschia_rikeri': 'Furnariidae', 'Inezia_inornata': 'Tyrannidae', 'Salpinctes_obsoletus': 'Troglodytidae', 'Campephaga_petiti': 'Campephagidae', 'Procellaria_cinerea': 'Procellariidae', 'Bolbopsittacus_lunulatus': 'Psittacidae', 'Arses_kaupi': 'Monarchidae', 'Aechmophorus_occidentalis': 'Podicipedidae', 'Melophus_lathami': 'Emberizidae', 'Curaeus_curaeus': 'Icteridae', 'Haematortyx_sanguiniceps': 'Phasianidae', 'Nyctanassa_violacea': 'Ardeidae', 'Melaenornis_edolioides': 'Muscicapidae', 'Cisticola_lateralis': 'Cisticolidae', 'Oreopsittacus_arfaki': 'Psittacidae', 'Xema_sabini': 'Laridae', 'Ardea_sumatrana': 'Ardeidae', 'Philepitta_schlegeli': 'Philepittidae', 'Ceuthmochares_aereus': 'Cuculidae', 'Quiscalus_quiscula': 'Icteridae', 'Sirystes_sibilator': 'Tyrannidae', 'Pityriasis_gymnocephala': 'Pityriaseidae', 'Colibri_delphinae': 'Trochilidae', 'Pachycephalopsis_poliosoma': 'Petroicidae', 'Ptilopsis_granti': 'Strigidae', 'Panterpe_insignis': 'Trochilidae', 'Phlegopsis_nigromaculata': 'Thamnophilidae', 'Corapipo_gutturalis': 'Pipridae', 'Geronticus_calvus': 'Threskiornithidae', 'Coccycua_pumila': 'Cuculidae', 'Nesillas_lantzii': 'Sylviidae', 'Pithecophaga_jefferyi': 'Accipitridae', 'Discosura_popelairii': 'Trochilidae', 'Ceratogymna_atrata': 'Bucerotidae', 'Ptychoramphus_aleuticus': 'Alcidae', 'Mohoua_ochrocephala': 'Acanthizidae', 'Colluricincla_harmonica': 'Colluricinclidae', 'Pipraeidea_melanonota': 'Thraupidae', 'Porphyrospiza_caerulescens': 'Emberizidae', 'Cyanophaia_bicolor': 'Trochilidae', 'Coua_serriana': 'Cuculidae', 'Trichixos_pyrropygus': 'Muscicapidae', 'Lagonosticta_senegala': 'Estrildidae', 'Rhagologus_leucostigma': 'Pachycephalidae', 'Panyptila_cayennensis': 'Apodidae', 'Diglossa_lafresnayii': 'Thraupidae', 'Sitta_formosa': 'Sittidae', 'Ornithion_inerme': 'Tyrannidae', 'Arundinicola_leucocephala': 'Tyrannidae', 'Adelomyia_melanogenys': 'Trochilidae', 'Aix_sponsa': 'Anatidae', 'Pseudalaemon_fremantlii': 'Alaudidae', 'Porphyrio_porphyrio': 'Rallidae', 'Cuculus_canorus': 'Cuculidae', 'Coryphistera_alaudina': 'Furnariidae', 'Eumyias_thalassinus': 'Muscicapidae', 'Estrilda_quartinia': 'Estrildidae', 'Cypsiurus_balasiensis': 'Apodidae', 'Gorsachius_leuconotus': 'Ardeidae', 'Chondrohierax_uncinatus': 'Accipitridae', 'Otus_leucotis': 'Strigidae', 'Psittinus_cyanurus': 'Psittacidae', 'Oena_capensis': 'Columbidae', 'Florisuga_mellivora': 'Trochilidae', 'Oreoica_gutturalis': 'Colluricinclidae', 'Zeledonia_coronata': 'Parulidae', 'Dendroica_petechia': 'Parulidae', 'Marmaronetta_angustirostris': 'Anatidae', 'Psittacula_eupatria': 'Psittacidae', 'Jacamerops_aureus': 'Galbulidae', 'Nesospiza_wilkinsi': 'Emberizidae', 'Rhizothera_longirostris': 'Phasianidae', 'Geothlypis_trichas': 'Parulidae', 'Artamella_viridis': 'Vangidae', 'Protonotaria_citrea': 'Parulidae', 'Phalaropus_fulicarius': 'Scolopacidae', 'Pipilo_ocai': 'Emberizidae', 'Philomachus_pugnax': 'Scolopacidae', 'Acridotheres_tristis': 'Sturnidae', 'Coragyps_atratus': 'Cathartidae', 'Doryfera_johannae': 'Trochilidae', 'Chlorospingus_canigularis': 'Thraupidae', 'Androdon_aequatorialis': 'Trochilidae', 'Kaupifalco_monogrammicus': 'Accipitridae', 'Pyrrholaemus_brunneus': 'Acanthizidae', 'Tringa_ochropus': 'Scolopacidae', 'Pezoporus_wallicus': 'Psittacidae', 'Nesocharis_shelleyi': 'Estrildidae', 'Sternoclyta_cyanopectus': 'Trochilidae', 'Megascops_watsonii': 'Strigidae', 'Callacanthis_burtoni': 'Fringillidae', 'Hirundapus_cochinchinensis': 'Apodidae', 'Eulabeornis_castaneoventris': 'Rallidae', 'Pycnoptilus_floccosus': 'Acanthizidae', 'Glyphorynchus_spirurus': 'Dendrocolaptidae', 'Canirallus_oculeus': 'Rallidae', 'Chlorochrysa_nitidissima': 'Thraupidae', 'Setornis_criniger': 'Pycnonotidae', 'Phaethon_rubricauda': 'Phaethontidae', 'Lophostrix_cristata': 'Strigidae', 'Cyanoliseus_patagonus': 'Psittacidae', 'Notiochelidon_murina': 'Hirundinidae', 'Trochocercus_nitens': 'Monarchidae', 'Paroaria_coronata': 'Emberizidae', 'Brachyramphus_marmoratus': 'Alcidae', 'Urosticte_benjamini': 'Trochilidae', 'Nyctiprogne_leucopyga': 'Caprimulgidae', 'Crossoptilon_harmani': 'Phasianidae', 'Xenospingus_concolor': 'Emberizidae', 'Volatinia_jacarina': 'Emberizidae', 'Nucifraga_caryocatactes': 'Corvidae', 'Penelopides_panini': 'Bucerotidae', 'Brotogeris_chrysoptera': 'Psittacidae', 'Gerygone_cinerea': 'Acanthizidae', 'Phedina_borbonica': 'Hirundinidae', 'Campylorhamphus_pucherani': 'Dendrocolaptidae', 'Urochroa_bougueri': 'Trochilidae', 'Myiozetetes_cayanensis': 'Tyrannidae', 'Melopsittacus_undulatus': 'Psittacidae', 'Thraupis_palmarum': 'Thraupidae', 'Cyanicterus_cyanicterus': 'Thraupidae', 'Onychorhynchus_coronatus': 'Tyrannidae', 'Chauna_chavaria': 'Anhimidae', 'Terenotriccus_erythrurus': 'Tyrannidae', 'Phoenicoparrus_andinus': 'Phoenicopteridae', 'Zebrilus_undulatus': 'Ardeidae', 'Terathopius_ecaudatus': 'Accipitridae', 'Amaurocichla_bocagei': 'Sylviidae', 'Ramphodon_naevius': 'Trochilidae', 'Cereopsis_novaehollandiae': 'Anatidae', 'Hypocnemoides_maculicauda': 'Thamnophilidae', 'Garrodia_nereis': 'Hydrobatidae', 'Polytelis_alexandrae': 'Psittacidae', 'Hylophilus_poicilotis': 'Vireonidae', 'Atticora_melanoleuca': 'Hirundinidae', 'Montifringilla_nivalis': 'Passeridae', 'Calochaetes_coccineus': 'Thraupidae', 'Acryllium_vulturinum': 'Numididae', 'Cicinnurus_regius': 'Paradisaeidae', 'Neocichla_gutturalis': 'Sturnidae', 'Laniisoma_elegans': 'Cotingidae', 'Gyps_africanus': 'Accipitridae', 'Kakamega_poliothorax': 'Timaliidae', 'Amblyospiza_albifrons': 'Ploceidae', 'Aramides_cajanea': 'Rallidae', 'Notharchus_pectoralis': 'Bucconidae', 'Phylidonyris_pyrrhopterus': 'Meliphagidae', 'Melozone_biarcuata': 'Emberizidae', 'Polemaetus_bellicosus': 'Accipitridae', 'Ixos_palawanensis': 'Pycnonotidae', 'Gampsorhynchus_rufulus': 'Timaliidae', 'Procelsterna_cerulea': 'Laridae', 'Incaspiza_pulchra': 'Emberizidae', 'Phaethornis_malaris': 'Trochilidae', 'Anarhynchus_frontalis': 'Charadriidae', 'Puffinus_assimilis': 'Procellariidae', 'Tchagra_minutus': 'Malaconotidae', 'Schoenicola_brevirostris': 'Sylviidae', 'Phaeochroa_cuvierii': 'Trochilidae', 'Entomyzon_cyanotis': 'Meliphagidae', 'Myrmeciza_ruficauda': 'Thamnophilidae', 'Cnemophilus_macgregorii': 'Cnemophilidae', 'Arachnothera_robusta': 'Nectariniidae', 'Leucopsar_rothschildi': 'Sturnidae', 'Pyrrhura_picta': 'Psittacidae', 'Anthoscopus_punctifrons': 'Remizidae', 'Oreomanes_fraseri': 'Thraupidae', 'Pseudelaenia_leucospodia': 'Tyrannidae', 'Mecocerculus_leucophrys': 'Tyrannidae', 'Copsychus_albospecularis': 'Muscicapidae', 'Aphriza_virgata': 'Scolopacidae', 'Tichodroma_muraria': 'Sittidae', 'Satrapa_icterophrys': 'Tyrannidae', 'Cercibis_oxycerca': 'Threskiornithidae', 'Lerwa_lerwa': 'Phasianidae', 'Galerida_magnirostris': 'Alaudidae', 'Hapalopsittaca_melanotis': 'Psittacidae', 'Dasyornis_longirostris': 'Dasyornithidae', 'Psittaculirostris_edwardsii': 'Psittacidae', 'Pseudocalyptomena_graueri': 'Eurylaimidae', 'Myioborus_pictus': 'Parulidae', 'Irena_puella': 'Irenidae', 'Phrygilus_gayi': 'Emberizidae', 'Paradisaea_raggiana': 'Paradisaeidae', 'Prinia_burnesii': 'Cisticolidae', 'Bleda_notatus': 'Pycnonotidae', 'Stactolaema_olivacea': 'Ramphastidae', 'Mesophoyx_intermedia': 'Ardeidae', 'Aquila_pomarina': 'Accipitridae', 'Pilherodius_pileatus': 'Ardeidae', 'Nothocrax_urumutum': 'Cracidae', 'Macgregoria_pulchra': 'Meliphagidae', 'Steganopus_tricolor': 'Scolopacidae', 'Archboldia_papuensis': 'Ptilonorhynchidae', 'Buceros_hydrocorax': 'Bucerotidae', 'Dumetella_carolinensis': 'Mimidae', 'Himatione_sanguinea': 'Fringillidae', 'Cinnyricinclus_femoralis': 'Sturnidae', 'Steatornis_caripensis': 'Steatornithidae', 'Tockus_alboterminatus': 'Bucerotidae', 'Trachyphonus_vaillantii': 'Ramphastidae', 'Nesotriccus_ridgwayi': 'Tyrannidae', 'Limicola_falcinellus': 'Scolopacidae', 'Pseudhirundo_griseopyga': 'Hirundinidae', 'Haematopus_longirostris': 'Haematopodidae', 'Sarcogyps_calvus': 'Accipitridae', 'Neafrapus_cassini': 'Apodidae', 'Sphecotheres_hypoleucus': 'Oriolidae', 'Penelope_argyrotis': 'Cracidae', 'Streptopelia_semitorquata': 'Columbidae', 'Piezorhina_cinerea': 'Emberizidae', 'Myrtis_fanny': 'Trochilidae', 'Mimus_parvulus': 'Mimidae', 'Tigriornis_leucolopha': 'Ardeidae', 'Dubusia_taeniata': 'Thraupidae', 'Petroica_multicolor': 'Petroicidae', 'Glaucis_aeneus': 'Trochilidae', 'Oporornis_formosus': 'Parulidae', 'Stellula_calliope': 'Trochilidae', 'Elaenia_martinica': 'Tyrannidae', 'Chasiempis_sandwichensis': 'Monarchidae', 'Eugenes_fulgens': 'Trochilidae', 'Creagrus_furcatus': 'Laridae', 'Tetraophasis_szechenyii': 'Phasianidae', 'Margarornis_rubiginosus': 'Furnariidae', 'Namibornis_herero': 'Muscicapidae', 'Teretistris_fernandinae': 'Parulidae', 'Creatophora_cinerea': 'Sturnidae', 'Rostrhamus_sociabilis': 'Accipitridae', 'Brachygalba_salmoni': 'Galbulidae', 'Megalurus_gramineus': 'Sylviidae', 'Merops_nubicoides': 'Meropidae', 'Calyptocichla_serina': 'Pycnonotidae', 'Indicator_variegatus': 'Indicatoridae', 'Kenopia_striata': 'Timaliidae', 'Urocolius_macrourus': 'Coliidae', 'Salvadorina_waigiuensis': 'Anatidae', 'Laniocera_rufescens': 'Cotingidae', 'Dulus_dominicus': 'Dulidae', 'Rimator_pasquieri': 'Timaliidae', 'Prionops_caniceps': 'Malaconotidae', 'Carpornis_cucullata': 'Cotingidae', 'Pagophila_eburnea': 'Laridae', 'Harpyopsis_novaeguineae': 'Accipitridae', 'Hellmayrea_gularis': 'Furnariidae', 'Cinclus_pallasii': 'Cinclidae', 'Phoebastria_irrorata': 'Diomedeidae', 'Nesoctites_micromegas': 'Picidae', 'Calandrella_cinerea': 'Alaudidae', 'Agelastes_niger': 'Numididae', 'Schiffornis_major': 'Cotingidae', 'Procnias_tricarunculatus': 'Cotingidae', 'Schistes_geoffroyi': 'Trochilidae', 'Limnornis_curvirostris': 'Furnariidae', 'Macronous_gularis': 'Timaliidae', 'Caprimulgus_affinis': 'Caprimulgidae', 'Gygis_alba': 'Laridae', 'Syrigma_sibilatrix': 'Ardeidae', 'Lathamus_discolor': 'Psittacidae', 'Enicognathus_leptorhynchus': 'Psittacidae', 'Laterallus_melanophaius': 'Rallidae', 'Prosobonia_cancellata': 'Scolopacidae', 'Mionectes_olivaceus': 'Tyrannidae', 'Pagodroma_nivea': 'Procellariidae', 'Selasphorus_platycercus': 'Trochilidae', 'Xanthotis_provocator': 'Meliphagidae', 'Neodrepanis_coruscans': 'Philepittidae', 'Acanthisitta_chloris': 'Acanthisittidae', 'Luscinia_svecica': 'Muscicapidae', 'Piculus_simplex': 'Picidae', 'Nectarinia_johannae': 'Nectariniidae', 'Xipholena_punicea': 'Cotingidae', 'Deltarhynchus_flammulatus': 'Tyrannidae', 'Lonchura_pallida': 'Estrildidae', 'Daphoenositta_chrysoptera': 'Neosittidae', 'Upucerthia_serrana': 'Furnariidae', 'Apalharpactes_reinwardtii': 'Trogonidae', 'Crecopsis_egregia': 'Rallidae', 'Certhia_familiaris': 'Certhiidae', 'Parabuteo_unicinctus': 'Accipitridae', 'Triclaria_malachitacea': 'Psittacidae', 'Xenospiza_baileyi': 'Emberizidae', 'Cynanthus_sordidus': 'Trochilidae', 'Podica_senegalensis': 'Heliornithidae', 'Rhipidura_teysmanni': 'Rhipiduridae', 'Callocephalon_fimbriatum': 'Psittacidae', 'Pteronetta_hartlaubii': 'Anatidae', 'Cnipodectes_subbrunneus': 'Tyrannidae', 'Speculanas_specularis': 'Anatidae', 'Plocepasser_mahali': 'Passeridae', 'Malacocincla_abbotti': 'Timaliidae', 'Amalocichla_incerta': 'Petroicidae', 'Rhopornis_ardesiacus': 'Thamnophilidae', 'Colinus_cristatus': 'Odontophoridae', 'Aglaiocercus_kingi': 'Trochilidae', 'Prioniturus_flavicans': 'Psittacidae', 'Onychognathus_nabouroup': 'Sturnidae', 'Clytolaema_rubricauda': 'Trochilidae', 'Pseudoleistes_guirahuro': 'Icteridae', 'Malaconotus_alius': 'Malaconotidae', 'Actinodura_egertoni': 'Timaliidae', 'Oreothraupis_arremonops': 'Emberizidae', 'Caryothraustes_canadensis': 'Cardinalidae', 'Anhinga_anhinga': 'Anhingidae', 'Coryphospingus_cucullatus': 'Emberizidae', 'Sylviparus_modestus': 'Paridae', 'Chiroxiphia_linearis': 'Pipridae', 'Ramphomicron_microrhynchum': 'Trochilidae', 'Rhynchocyclus_brevirostris': 'Tyrannidae', 'Certhiaxis_cinnamomeus': 'Furnariidae', 'Robsonius_rabori': 'Timaliidae', 'Priotelus_temnurus': 'Trogonidae', 'Euschistospiza_dybowskii': 'Estrildidae', 'Embernagra_platensis': 'Emberizidae', 'Phaetusa_simplex': 'Laridae', 'Limnothlypis_swainsonii': 'Parulidae', 'Notiomystis_cincta': 'Meliphagidae', 'Carpodacus_erythrinus': 'Fringillidae', 'Epinecrophylla_fulviventris': 'Thamnophilidae', 'Ramsayornis_modestus': 'Meliphagidae', 'Macronyx_aurantiigula': 'Motacillidae', 'Phytotoma_raimondii': 'Cotingidae', 'Sporopipes_frontalis': 'Passeridae', 'Purpureicephalus_spurius': 'Psittacidae', 'Anumbius_annumbi': 'Furnariidae', 'Dendrocygna_arborea': 'Anatidae', 'Eremophila_bilopha': 'Alaudidae', 'Reinwardtipicus_validus': 'Picidae', 'Sarothrura_pulchra': 'Rallidae', 'Conopophaga_melanops': 'Conopophagidae', 'Conopophila_albogularis': 'Meliphagidae', 'Agelasticus_thilius': 'Icteridae', 'Collocalia_unicolor': 'Apodidae', 'Geranoaetus_melanoleucus': 'Accipitridae', 'Rhinoplax_vigil': 'Bucerotidae', 'Spermophaga_poliogenys': 'Estrildidae', 'Geranospiza_caerulescens': 'Accipitridae', 'Chenonetta_jubata': 'Anatidae', 'Botaurus_pinnatus': 'Ardeidae', 'Tapera_naevia': 'Cuculidae', 'Erythropygia_quadrivirgata': 'Muscicapidae', 'Anthreptes_longuemarei': 'Nectariniidae', 'Mulleripicus_pulverulentus': 'Picidae', 'Sula_nebouxii': 'Sulidae', 'Platyspiza_crassirostris': 'Emberizidae', 'Calcarius_ornatus': 'Emberizidae', 'Epimachus_bruijnii': 'Paradisaeidae', 'Daption_capense': 'Procellariidae', 'Struthio_camelus': 'Struthionidae', 'Elanus_caeruleus': 'Accipitridae', 'Celeus_brachyurus': 'Picidae', 'Calyptophilus_frugivorus': 'Thraupidae', 'Calocitta_colliei': 'Corvidae', 'Eleoscytalopus_indigoticus': 'Rhinocryptidae', 'Corythaixoides_leucogaster': 'Musophagidae', 'Neochelidon_tibialis': 'Hirundinidae', 'Lioptilus_nigricapillus': 'Timaliidae', 'Euryptila_subcinnamomea': 'Cisticolidae', 'Larus_saundersi': 'Laridae', 'Legatus_leucophaius': 'Tyrannidae', 'Cettia_diphone': 'Sylviidae', 'Columbina_squammata': 'Columbidae', 'Platalea_leucorodia': 'Threskiornithidae', 'Peltops_blainvillii': 'Cracticidae', 'Dysithamnus_stictothorax': 'Thamnophilidae', 'Thalurania_colombica': 'Trochilidae', 'Archilochus_colubris': 'Trochilidae', 'Gymnophaps_albertisii': 'Columbidae', 'Pelecanus_crispus': 'Pelecanidae', 'Zosterops_erythropleurus': 'Zosteropidae', 'Rhodospingus_cruentus': 'Emberizidae', 'Galbalcyrhynchus_leucotis': 'Galbulidae', 'Diuca_speculifera': 'Emberizidae', 'Euptilotis_neoxenus': 'Trogonidae', 'Eremomela_pusilla': 'Sylviidae', 'Aglaeactis_cupripennis': 'Trochilidae', 'Tetraogallus_caspius': 'Phasianidae', 'Muscicapa_striata': 'Muscicapidae', 'Mackenziaena_severa': 'Thamnophilidae', 'Anhima_cornuta': 'Anhimidae', 'Clytoceyx_rex': 'Alcedinidae', 'Chamaeza_campanisona': 'Formicariidae', 'Corydon_sumatranus': 'Eurylaimidae', 'Drepanoptila_holosericea': 'Columbidae', 'Abeillia_abeillei': 'Trochilidae', 'Caliechthrus_leucolophus': 'Cuculidae', 'Trugon_terrestris': 'Columbidae', 'Guaruba_guarouba': 'Psittacidae', 'Butorides_striata': 'Ardeidae', 'Napothera_brevicaudata': 'Timaliidae', 'Dendrocolaptes_picumnus': 'Dendrocolaptidae', 'Tetrao_tetrix': 'Phasianidae', 'Strophocincla_cachinnans': 'Timaliidae', 'Metopidius_indicus': 'Jacanidae', 'Stagonopleura_bella': 'Estrildidae', 'Turdoides_hindei': 'Timaliidae', 'Lophotibis_cristata': 'Threskiornithidae', 'Chordeiles_gundlachii': 'Caprimulgidae', 'Caridonax_fulgidus': 'Alcedinidae', 'Oxyruncus_cristatus': 'Cotingidae', 'Calothorax_lucifer': 'Trochilidae', 'Euneornis_campestris': 'Emberizidae', 'Vireo_brevipennis': 'Vireonidae', 'Nipponia_nippon': 'Threskiornithidae', 'Baeopogon_indicator': 'Pycnonotidae', 'Cichladusa_arquata': 'Muscicapidae', 'Tyrannopsis_sulphurea': 'Tyrannidae', 'Haematospiza_sipahi': 'Fringillidae', 'Gnorimopsar_chopi': 'Icteridae', 'Cincloramphus_cruralis': 'Sylviidae', 'Anurophasis_monorthonyx': 'Phasianidae', 'Phoenicurus_erythronotus': 'Muscicapidae', 'Augastes_lumachella': 'Trochilidae', 'Tityra_semifasciata': 'Cotingidae', 'Campochaera_sloetii': 'Campephagidae', 'Agelaioides_badius': 'Icteridae', 'Conopias_parvus': 'Tyrannidae', 'Anthracoceros_coronatus': 'Bucerotidae', 'Gypohierax_angolensis': 'Accipitridae', 'Anous_stolidus': 'Laridae', 'Psilopogon_pyrolophus': 'Ramphastidae', 'Cypsnagra_hirundinacea': 'Thraupidae', 'Pachycare_flavogriseum': 'Pachycephalidae', 'Amphispiza_belli': 'Emberizidae', 'Hyliota_australis': 'Sylviidae', 'Tumbezia_salvini': 'Tyrannidae', 'Buccanodon_duchaillui': 'Ramphastidae', 'Oculocincta_squamifrons': 'Zosteropidae', 'Cistothorus_platensis': 'Troglodytidae', 'Neocrex_colombiana': 'Rallidae', 'Diopsittaca_nobilis': 'Psittacidae', 'Niltava_grandis': 'Muscicapidae', 'Myiophobus_flavicans': 'Tyrannidae', 'Gymnopithys_rufigula': 'Thamnophilidae', 'Bulweria_fallax': 'Procellariidae', 'Tyrannus_melancholicus': 'Tyrannidae', 'Lacedo_pulchella': 'Alcedinidae', 'Ictinaetus_malayensis': 'Accipitridae', 'Sapayoa_aenigma': 'Sapayoaidae', 'Oceanodroma_furcata': 'Hydrobatidae', 'Patagona_gigas': 'Trochilidae', 'Eudromias_morinellus': 'Charadriidae', 'Cyclarhis_gujanensis': 'Vireonidae', 'Glycichaera_fallax': 'Meliphagidae', 'Stelgidopteryx_serripennis': 'Hirundinidae', 'Sarcoramphus_papa': 'Cathartidae', 'Bathmocercus_rufus': 'Sylviidae', 'Alca_torda': 'Alcidae', 'Neophron_percnopterus': 'Accipitridae', 'Aleadryas_rufinucha': 'Pachycephalidae', 'Antilophia_galeata': 'Pipridae', 'Sericulus_chrysocephalus': 'Ptilonorhynchidae', 'Paroreomyza_maculata': 'Fringillidae', 'Modulatrix_stictigula': 'Muscicapidae', 'Troglodytes_troglodytes': 'Troglodytidae', 'Eulampis_jugularis': 'Trochilidae', 'Teledromas_fuscus': 'Rhinocryptidae', 'Sylvietta_rufescens': 'Sylviidae', 'Chalybura_buffonii': 'Trochilidae', 'Pogoniulus_scolopaceus': 'Ramphastidae', 'Netta_rufina': 'Anatidae', 'Aphantochroa_cirrochloris': 'Trochilidae', 'Xanthocephalus_xanthocephalus': 'Icteridae', 'Klais_guimeti': 'Trochilidae', 'Manorina_melanocephala': 'Meliphagidae', 'Camarhynchus_parvulus': 'Emberizidae', 'Spiziapteryx_circumcincta': 'Falconidae', 'Scythrops_novaehollandiae': 'Cuculidae', 'Andigena_laminirostris': 'Ramphastidae', 'Melanocorypha_calandra': 'Alaudidae', 'Dryotriorchis_spectabilis': 'Accipitridae', 'Recurvirostra_avosetta': 'Recurvirostridae', 'Chrysothlypis_salmoni': 'Thraupidae', 'Hemicircus_concretus': 'Picidae', 'Aulacorhynchus_prasinus': 'Ramphastidae', 'Stigmatopelia_chinensis': 'Columbidae', 'Jabiru_mycteria': 'Ciconiidae', 'Delichon_urbicum': 'Hirundinidae', 'Philydor_ruficaudatum': 'Furnariidae', 'Callipepla_squamata': 'Odontophoridae', 'Forpus_passerinus': 'Psittacidae', 'Tympanuchus_phasianellus': 'Phasianidae', 'Pseudochelidon_eurystomina': 'Hirundinidae', 'Amblycercus_holosericeus': 'Icteridae', 'Milvago_chimachima': 'Falconidae', 'Pterodroma_longirostris': 'Procellariidae', 'Amaurornis_olivacea': 'Rallidae', 'Polyboroides_typus': 'Accipitridae', 'Phalacrocorax_carbo': 'Phalacrocoracidae', 'Passerina_amoena': 'Emberizidae', 'Stigmatura_napensis': 'Tyrannidae', 'Eclectus_roratus': 'Psittacidae', 'Corvus_corone': 'Corvidae', 'Parotia_carolae': 'Paradisaeidae', 'Charmosyna_papou': 'Psittacidae', 'Leptopoecile_sophiae': 'Aegithalidae', 'Casuarius_casuarius': 'Casuariidae', 'Thryorchilus_browni': 'Troglodytidae', 'Eupetomena_macroura': 'Trochilidae', 'Ephippiorhynchus_asiaticus': 'Ciconiidae', 'Eopsaltria_griseogularis': 'Petroicidae', 'Muscicapella_hodgsoni': 'Muscicapidae', 'Myzomela_eichhorni': 'Meliphagidae', 'Ergaticus_ruber': 'Parulidae', 'Drymophila_ferruginea': 'Thamnophilidae', 'Pyrrhurus_scandens': 'Pycnonotidae', 'Myrmoborus_leucophrys': 'Thamnophilidae', 'Gymnogyps_californianus': 'Cathartidae', 'Swynnertonia_swynnertoni': 'Muscicapidae', 'Habroptila_wallacii': 'Rallidae', 'Taeniopygia_guttata': 'Estrildidae', 'Gubernatrix_cristata': 'Emberizidae', 'Bambusicola_fytchii': 'Phasianidae', 'Loxia_pytyopsittacus': 'Fringillidae', 'Cathartes_aura': 'Cathartidae', 'Aspatha_gularis': 'Momotidae', 'Clytoctantes_alixii': 'Thamnophilidae', 'Humblotia_flavirostris': 'Muscicapidae', 'Morus_serrator': 'Sulidae', 'Synallaxis_brachyura': 'Furnariidae', 'Colonia_colonus': 'Tyrannidae', 'Capito_aurovirens': 'Ramphastidae', 'Pardirallus_maculatus': 'Rallidae', 'Dasycrotapha_speciosa': 'Timaliidae', 'Bucorvus_cafer': 'Bucorvidae', 'Hylocharis_xantusii': 'Trochilidae', 'Calypte_anna': 'Trochilidae', 'Chunga_burmeisteri': 'Cariamidae', 'Prionochilus_olivaceus': 'Dicaeidae', 'Eurostopodus_argus': 'Caprimulgidae', 'Melampitta_lugubris': 'Orthonychidae', 'Pomarea_whitneyi': 'Monarchidae', 'Lafresnaya_lafresnayi': 'Trochilidae', 'Nilaus_afer': 'Malaconotidae', 'Ferminia_cerverai': 'Troglodytidae', 'Melignomon_eisentrauti': 'Indicatoridae', 'Megacrex_inepta': 'Rallidae', 'Deconychura_longicauda': 'Dendrocolaptidae', 'Phimosus_infuscatus': 'Threskiornithidae', 'Chersomanes_albofasciata': 'Alaudidae', 'Tmetothylacus_tenellus': 'Motacillidae', 'Phaenostictus_mcleannani': 'Thamnophilidae', 'Gallicolumba_erythroptera': 'Columbidae', 'Kupeornis_gilberti': 'Timaliidae', 'Topaza_pella': 'Trochilidae', 'Lybius_guifsobalito': 'Ramphastidae', 'Polioptila_dumicola': 'Polioptilidae', 'Bubo_nipalensis': 'Strigidae', 'Querula_purpurata': 'Cotingidae', 'Phigys_solitarius': 'Psittacidae', 'Francolinus_jacksoni': 'Phasianidae', 'Megapodius_freycinet': 'Megapodiidae', 'Ramphastos_sulfuratus': 'Ramphastidae', 'Pycnopygius_ixoides': 'Meliphagidae', 'Margarops_fuscus': 'Mimidae', 'Dromas_ardeola': 'Dromadidae', 'Pheucticus_chrysogaster': 'Cardinalidae', 'Randia_pseudozosterops': 'Sylviidae', 'Masius_chrysopterus': 'Pipridae', 'Poecilodryas_hypoleuca': 'Petroicidae', 'Chlamydera_cerviniventris': 'Ptilonorhynchidae', 'Jynx_torquilla': 'Picidae', 'Rhopocichla_atriceps': 'Timaliidae', 'Rhinomyias_umbratilis': 'Muscicapidae', 'Diomedea_exulans': 'Diomedeidae', 'Euphagus_carolinus': 'Icteridae', 'Hemitesia_neumanni': 'Sylviidae', 'Bowdleria_punctata': 'Sylviidae', 'Rhamphomantis_megarhynchus': 'Cuculidae', 'Apaloderma_vittatum': 'Trogonidae', 'Piranga_rubra': 'Cardinalidae', 'Didunculus_strigirostris': 'Columbidae', 'Vestiaria_coccinea': 'Fringillidae', 'Ptilostomus_afer': 'Corvidae', 'Taphrospilus_hypostictus': 'Trochilidae', 'Malcorus_pectoralis': 'Cisticolidae', 'Artisornis_moreaui': 'Sylviidae', 'Histrionicus_histrionicus': 'Anatidae', 'Eremiornis_carteri': 'Sylviidae', 'Catharus_guttatus': 'Turdidae', 'Rhinoptilus_africanus': 'Glareolidae', 'Euphonia_gouldi': 'Thraupidae', 'Andropadus_montanus': 'Pycnonotidae', 'Microbates_cinereiventris': 'Polioptilidae', 'Buphagus_erythrorhynchus': 'Sturnidae', 'Poicephalus_gulielmi': 'Psittacidae', 'Sterna_nilotica': 'Laridae', 'Mergus_serrator': 'Anatidae', 'Sasia_abnormis': 'Picidae', 'Irania_gutturalis': 'Muscicapidae', 'Mitrospingus_oleagineus': 'Thraupidae', 'Cossypha_isabellae': 'Muscicapidae', 'Gymnomystax_mexicanus': 'Icteridae', 'Nigrita_bicolor': 'Estrildidae', 'Neothraupis_fasciata': 'Thraupidae', 'Thalassarche_impavida': 'Diomedeidae', 'Psittrichas_fulgidus': 'Psittacidae', 'Heteroglaux_blewitti': 'Strigidae', 'Clangula_hyemalis': 'Anatidae', 'Ninox_odiosa': 'Strigidae', 'Limosa_lapponica': 'Scolopacidae', 'Roraimia_adusta': 'Furnariidae', 'Pomatorhinus_montanus': 'Timaliidae', 'Micropsitta_keiensis': 'Psittacidae', 'Criniger_barbatus': 'Pycnonotidae', 'Pterophanes_cyanopterus': 'Trochilidae', 'Megalurulus_mariei': 'Sylviidae', 'Actitis_macularius': 'Scolopacidae', 'Wilsonia_citrina': 'Parulidae', 'Hymenops_perspicillatus': 'Tyrannidae', 'Xenops_rutilans': 'Furnariidae', 'Spiloptila_clamans': 'Cisticolidae', 'Ardeotis_kori': 'Otididae', 'Phalcoboenus_carunculatus': 'Falconidae', 'Knipolegus_striaticeps': 'Tyrannidae', 'Tachuris_rubrigastra': 'Tyrannidae', 'Prosthemadera_novaeseelandiae': 'Meliphagidae', 'Peucedramus_taeniatus': 'Peucedramidae', 'Chelictinia_riocourii': 'Accipitridae', 'Scissirostrum_dubium': 'Sturnidae', 'Campylorhynchus_brunneicapillus': 'Troglodytidae', 'Terenura_maculata': 'Thamnophilidae', 'Leptopterus_chabert': 'Vangidae', 'Heliopais_personatus': 'Heliornithidae', 'Crinifer_piscator': 'Musophagidae', 'Oenanthe_bifasciata': 'Muscicapidae', 'Micropygia_schomburgkii': 'Rallidae', 'Stenostira_scita': 'Muscicapidae', 'Bradypterus_thoracicus': 'Sylviidae', 'Sephanoides_sephaniodes': 'Trochilidae', 'Acanthiza_murina': 'Acanthizidae', 'Dromaius_novaehollandiae': 'Dromaiidae', 'Eos_cyanogenia': 'Psittacidae', 'Erythrotriorchis_buergersi': 'Accipitridae', 'Hypergerus_atriceps': 'Cisticolidae', 'Heteronetta_atricapilla': 'Anatidae', 'Cyclopsitta_diophthalma': 'Psittacidae', 'Schizoeaca_coryi': 'Furnariidae', 'Cladorhynchus_leucocephalus': 'Recurvirostridae', 'Premnoplex_brunnescens': 'Furnariidae', 'Crateroscelis_murina': 'Acanthizidae', 'Ictinia_mississippiensis': 'Accipitridae', 'Melanocharis_striativentris': 'Melanocharitidae', 'Alectroenas_madagascariensis': 'Columbidae', 'Hypocryptadius_cinnamomeus': 'Zosteropidae', 'Myophonus_borneensis': 'Turdidae', 'Lichmera_flavicans': 'Meliphagidae', 'Paradigalla_brevicauda': 'Paradisaeidae', 'Tiaris_obscurus': 'Emberizidae', 'Calamospiza_melanocorys': 'Emberizidae', 'Riparia_cincta': 'Hirundinidae', 'Anorrhinus_austeni': 'Bucerotidae', 'Granatellus_pelzelni': 'Cardinalidae', 'Urocynchramus_pylzowi': 'Urocynchramidae', 'Heliomaster_constantii': 'Trochilidae', 'Monachella_muelleriana': 'Petroicidae', 'Atlantisia_rogersi': 'Rallidae', 'Hemixos_flavala': 'Pycnonotidae', 'Cyanolanius_madagascarinus': 'Vangidae', 'Alectoris_chukar': 'Phasianidae', 'Macroagelaius_imthurni': 'Icteridae', 'Hylopezus_perspicillatus': 'Formicariidae', 'Telophorus_zeylonus': 'Malaconotidae', 'Xiphirhynchus_superciliaris': 'Timaliidae', 'Callonetta_leucophrys': 'Anatidae', 'Perdicula_asiatica': 'Phasianidae', 'Cacomantis_sonneratii': 'Cuculidae', 'Cercomela_sinuata': 'Muscicapidae', 'Metabolus_rugensis': 'Monarchidae', 'Buthraupis_eximia': 'Thraupidae', 'Thalassoica_antarctica': 'Procellariidae', 'Elanoides_forficatus': 'Accipitridae', 'Eutoxeres_aquila': 'Trochilidae', 'Hylocichla_mustelina': 'Turdidae', 'Chlorothraupis_olivacea': 'Cardinalidae', 'Pseudonigrita_cabanisi': 'Passeridae', 'Nandayus_nenday': 'Psittacidae', 'Loxioides_bailleui': 'Fringillidae', 'Neophema_elegans': 'Psittacidae', 'Halobaena_caerulea': 'Procellariidae', 'Scolopax_rusticola': 'Scolopacidae', 'Baryphthengus_martii': 'Momotidae', 'Tangara_xanthocephala': 'Thraupidae', 'Timalia_pileata': 'Timaliidae', 'Acanthornis_magna': 'Acanthizidae', 'Dendrocopos_leucopterus': 'Picidae', 'Myornis_senilis': 'Rhinocryptidae', 'Dacnis_lineata': 'Thraupidae', 'Hypocolius_ampelinus': 'Bombycillidae', 'Aphelocoma_insularis': 'Corvidae', 'Spindalis_zena': 'Thraupidae', 'Compsospiza_garleppi': 'Thraupidae', 'Chondestes_grammacus': 'Emberizidae', 'Catreus_wallichi': 'Phasianidae', 'Mino_dumontii': 'Sturnidae', 'Nystalus_maculatus': 'Bucconidae', 'Heleia_crassirostris': 'Zosteropidae', 'Odontophorus_capueira': 'Odontophoridae', 'Chrysomma_sinense': 'Timaliidae', 'Rhynochetos_jubatus': 'Rhynochetidae', 'Nyctibius_grandis': 'Nyctibiidae', 'Cardellina_rubrifrons': 'Parulidae', 'Neopsittacus_musschenbroekii': 'Psittacidae', 'Thescelocichla_leucopleura': 'Pycnonotidae', 'Acrocephalus_concinens': 'Sylviidae', 'Jacamaralcyon_tridactyla': 'Galbulidae', 'Dendrexetastes_rufigula': 'Dendrocolaptidae', 'Enodes_erythrophris': 'Sturnidae', 'Smithornis_capensis': 'Eurylaimidae', 'Avocettula_recurvirostris': 'Trochilidae', 'Calyptorhynchus_funereus': 'Psittacidae', 'Thryomanes_bewickii': 'Troglodytidae', 'Ceryle_rudis': 'Alcedinidae', 'Tolmomyias_sulphurescens': 'Tyrannidae', 'Anas_platyrhynchos': 'Anatidae', 'Catamenia_analis': 'Emberizidae', 'Donacobius_atricapilla': 'Mimidae', 'Asio_capensis': 'Strigidae', 'Hypopyrrhus_pyrohypogaster': 'Icteridae', 'Chlorophonia_pyrrhophrys': 'Thraupidae', 'Cyanoptila_cyanomelana': 'Muscicapidae', 'Mayrornis_lessoni': 'Monarchidae', 'Goura_victoria': 'Columbidae', 'Mesembrinibis_cayennensis': 'Threskiornithidae', 'Ketupa_flavipes': 'Strigidae', 'Agapornis_swindernianus': 'Psittacidae', 'Pnoepyga_albiventer': 'Timaliidae', 'Nesopsar_nigerrimus': 'Icteridae', 'Attila_spadiceus': 'Tyrannidae', 'Pseudopodoces_humilis': 'Paridae', 'Oxypogon_guerinii': 'Trochilidae', 'Phoenicircus_nigricollis': 'Cotingidae', 'Aptenodytes_forsteri': 'Spheniscidae', 'Cinnycerthia_unirufa': 'Troglodytidae', 'Temnurus_temnurus': 'Corvidae', 'Hylacola_pyrrhopygia': 'Acanthizidae', 'Hippolais_olivetorum': 'Sylviidae', 'Eremopterix_nigriceps': 'Alaudidae', 'Ochthoeca_frontalis': 'Tyrannidae', 'Callaeas_cinereus': 'Callaeatidae', 'Hemispingus_goeringi': 'Thraupidae', 'Pica_hudsonia': 'Corvidae', 'Machetornis_rixosa': 'Tyrannidae', 'Anodorhynchus_leari': 'Psittacidae', 'Glossopsitta_porphyrocephala': 'Psittacidae', 'Lesbia_victoriae': 'Trochilidae', 'Machaerirhynchus_nigripectus': 'Machaerirhynchidae', 'Micromonacha_lanceolata': 'Bucconidae', 'Phegornis_mitchellii': 'Charadriidae', 'Origma_solitaria': 'Acanthizidae', 'Histurgops_ruficaudus': 'Passeridae', 'Piprites_pileata': 'Pipridae', 'Limnodromus_semipalmatus': 'Scolopacidae', 'Rheinardia_ocellata': 'Phasianidae', 'Phragmacia_substriata': 'Cisticolidae', 'Tadorna_ferruginea': 'Anatidae', 'Cephalopyrus_flammiceps': 'Remizidae', 'Rollulus_rouloul': 'Phasianidae', 'Calliphlox_bryantae': 'Trochilidae', 'Promerops_gurneyi': 'Promeropidae', 'Lessonia_oreas': 'Tyrannidae', 'Monias_benschi': 'Mesitornithidae', 'Ocyalus_latirostris': 'Icteridae', 'Micrastur_ruficollis': 'Falconidae', 'Myrmotherula_brachyura': 'Thamnophilidae', 'Graydidascalus_brachyurus': 'Psittacidae', 'Henicopernis_longicauda': 'Accipitridae', 'Podiceps_cristatus': 'Podicipedidae', 'Oreopsar_bolivianus': 'Icteridae', 'Orthorhyncus_cristatus': 'Trochilidae', 'Petronia_petronia': 'Passeridae', 'Scopus_umbretta': 'Scopidae', 'Mesitornis_unicolor': 'Mesitornithidae', 'Cichlopsis_leucogenys': 'Turdidae', 'Cardinalis_sinuatus': 'Cardinalidae', 'Theristicus_caerulescens': 'Threskiornithidae', 'Gymnobucco_calvus': 'Ramphastidae', 'Falculea_palliata': 'Vangidae', 'Urotriorchis_macrourus': 'Accipitridae', 'Guadalcanaria_inexpectata': 'Meliphagidae', 'Rhodostethia_rosea': 'Laridae', 'Oxylabes_madagascariensis': 'Sylviidae', 'Hapaloptila_castanea': 'Bucconidae', 'Leptosomus_discolor': 'Leptosomidae', 'Psaltria_exilis': 'Aegithalidae', 'Mitu_tomentosum': 'Cracidae', 'Scotocerca_inquieta': 'Cisticolidae', 'Ruwenzorornis_johnstoni': 'Musophagidae', 'Syndactyla_guttulata': 'Furnariidae', 'Eunymphicus_cornutus': 'Psittacidae', 'Daptrius_ater': 'Falconidae', 'Emblema_pictum': 'Estrildidae', 'Megabyas_flammulatus': 'Platysteiridae', 'Leucippus_fallax': 'Trochilidae', 'Megarynchus_pitangua': 'Tyrannidae', 'Pseudibis_papillosa': 'Threskiornithidae', 'Psophia_viridis': 'Psophiidae', 'Loddigesia_mirabilis': 'Trochilidae', 'Motacilla_capensis': 'Motacillidae', 'Colius_striatus': 'Coliidae', 'Amaurolimnas_concolor': 'Rallidae', 'Myiotriccus_ornatus': 'Tyrannidae', 'Newtonia_brunneicauda': 'Vangidae', 'Chlorocichla_simplex': 'Pycnonotidae', 'Coturnix_coturnix': 'Phasianidae', 'Loxigilla_violacea': 'Emberizidae', 'Bubulcus_ibis': 'Ardeidae', 'Prodotiscus_insignis': 'Indicatoridae', 'Melierax_metabates': 'Accipitridae', 'Alle_alle': 'Alcidae', 'Cutia_nipalensis': 'Timaliidae', 'Spilornis_cheela': 'Accipitridae', 'Pittasoma_michleri': 'Formicariidae', 'Pharomachrus_mocinno': 'Trogonidae', 'Prunella_himalayana': 'Prunellidae', 'Dendropicos_elachus': 'Picidae', 'Pyrenestes_sanguineus': 'Estrildidae', 'Epthianura_tricolor': 'Meliphagidae', 'Leucosticte_australis': 'Fringillidae', 'Pogonocichla_stellata': 'Muscicapidae', 'Nesofregetta_fuliginosa': 'Hydrobatidae', 'Tricholestes_criniger': 'Pycnonotidae', 'Pseudobias_wardi': 'Vangidae', 'Bernieria_zosterops': 'Sylviidae', 'Somateria_mollissima': 'Anatidae', 'Platyrinchus_leucoryphus': 'Tyrannidae', 'Amphilais_seebohmi': 'Sylviidae', 'Cataponera_turdoides': 'Turdidae', 'Columba_bollii': 'Columbidae', 'Chlorostilbon_stenurus': 'Trochilidae', 'Fregetta_grallaria': 'Hydrobatidae', 'Dromococcyx_phasianellus': 'Cuculidae', 'Melanodera_xanthogramma': 'Emberizidae', 'Pionites_melanocephalus': 'Psittacidae', 'Microparra_capensis': 'Jacanidae', 'Ibidorhyncha_struthersii': 'Ibidorhynchidae', 'Rhyacornis_fuliginosa': 'Muscicapidae', 'Orchesticus_abeillei': 'Thraupidae', 'Margaroperdix_madagascariensis': 'Phasianidae', 'Rallina_fasciata': 'Rallidae', 'Caracara_cheriway': 'Falconidae', 'Atelornis_crossleyi': 'Brachypteraciidae', 'Ptilorrhoa_leucosticta': 'Eupetidae', 'Campylopterus_curvipennis': 'Trochilidae', 'Dacelo_gaudichaud': 'Alcedinidae', 'Saxicoloides_fulicatus': 'Muscicapidae', 'Thryothorus_atrogularis': 'Troglodytidae', 'Tricholaema_hirsuta': 'Ramphastidae', 'Pseudotriccus_pelzelni': 'Tyrannidae', 'Rougetius_rougetii': 'Rallidae', 'Thripophaga_macroura': 'Furnariidae', 'Tachycineta_bicolor': 'Hirundinidae', 'Oreomystis_mana': 'Fringillidae', 'Eupherusa_eximia': 'Trochilidae', 'Oreophasis_derbianus': 'Cracidae', 'Melidora_macrorrhina': 'Alcedinidae', 'Centrocercus_urophasianus': 'Phasianidae', 'Ailuroedus_crassirostris': 'Ptilonorhynchidae', 'Chalcostigma_ruficeps': 'Trochilidae', 'Aprosmictus_jonquillaceus': 'Psittacidae', 'Psalidoprocne_nitens': 'Hirundinidae', 'Chrysocolaptes_lucidus': 'Picidae', 'Trichoglossus_ornatus': 'Psittacidae', 'Cnemotriccus_fuscatus': 'Tyrannidae', 'Meropogon_forsteni': 'Meropidae', 'Turacoena_manadensis': 'Columbidae', 'Ocyphaps_lophotes': 'Columbidae', 'Lophaetus_occipitalis': 'Accipitridae', 'Porphyrolaema_porphyrolaema': 'Cotingidae', 'Cleptornis_marchei': 'Zosteropidae', 'Lewinia_pectoralis': 'Rallidae', 'Eophona_personata': 'Fringillidae', 'Falco_cherrug': 'Falconidae', 'Nymphicus_hollandicus': 'Psittacidae', 'Schoeniophylax_phryganophilus': 'Furnariidae', 'Artamus_fuscus': 'Artamidae', 'Amazonetta_brasiliensis': 'Anatidae', 'Plectorhyncha_lanceolata': 'Meliphagidae', 'Pellorneum_albiventre': 'Timaliidae', 'Bradornis_pallidus': 'Muscicapidae', 'Amandava_amandava': 'Estrildidae', 'Opisthoprora_euryptera': 'Trochilidae', 'Hemipus_picatus': 'Campephagidae', 'Dumetia_hyperythra': 'Timaliidae', 'Tinamotis_pentlandii': 'Tinamidae', 'Batis_minor': 'Platysteiridae', 'Aegolius_harrisii': 'Strigidae', 'Hydrophasianus_chirurgus': 'Jacanidae', 'Leucophaeus_scoresbii': 'Laridae', 'Picus_mineaceus': 'Picidae', 'Pseudocolaptes_lawrencii': 'Furnariidae', 'Macropygia_unchall': 'Columbidae', 'Dryocopus_pileatus': 'Picidae', 'Anthornis_melanura': 'Meliphagidae', 'Dryolimnas_cuvieri': 'Rallidae', 'Euthlypis_lachrymosa': 'Parulidae', 'Psilorhamphus_guttatus': 'Rhinocryptidae', 'Chamaepetes_unicolor': 'Cracidae', 'Lophophorus_impejanus': 'Phasianidae', 'Geotrygon_lawrencii': 'Columbidae', 'Neopipo_cinnamomea': 'Tyrannidae', 'Spizaetus_melanoleucus': 'Accipitridae', 'Schistocichla_leucostigma': 'Thamnophilidae', 'Urosphena_squameiceps': 'Sylviidae', 'Coeligena_torquata': 'Trochilidae', 'Pseudoseisura_cristata': 'Furnariidae', 'Siphonorhis_brewsteri': 'Caprimulgidae', 'Torgos_tracheliotos': 'Accipitridae', 'Asthenes_steinbachi': 'Furnariidae', 'Cypseloides_niger': 'Apodidae', 'Hydrobates_pelagicus': 'Hydrobatidae', 'Eremopsaltria_mongolicus': 'Fringillidae', 'Haematoderus_militaris': 'Cotingidae', 'Sittasomus_griseicapillus': 'Dendrocolaptidae', 'Regulus_regulus': 'Reguliidae', 'Hypocnemis_cantator': 'Thamnophilidae', 'Necrosyrtes_monachus': 'Accipitridae', 'Cochlearius_cochlearius': 'Ardeidae', 'Zenaida_macroura': 'Columbidae', 'Cossyphicula_roberti': 'Muscicapidae', 'Chlorornis_riefferii': 'Thraupidae', 'Aviceda_jerdoni': 'Accipitridae', 'Ortalis_vetula': 'Cracidae', 'Sayornis_phoebe': 'Tyrannidae', 'Leptodon_cayanensis': 'Accipitridae', 'Bias_musicus': 'Platysteiridae', 'Macronectes_giganteus': 'Procellariidae', 'Cygnus_melancoryphus': 'Anatidae', 'Plectrophenax_nivalis': 'Emberizidae', 'Ceyx_lecontei': 'Alcedinidae', 'Microeca_fascinans': 'Petroicidae', 'Treron_calvus': 'Columbidae', 'Culicicapa_ceylonensis': 'Muscicapidae', 'Lamprotornis_australis': 'Sturnidae', 'Sialia_mexicana': 'Turdidae', 'Yuhina_castaniceps': 'Timaliidae', 'Spartonoica_maluroides': 'Furnariidae', 'Toxorhamphus_novaeguineae': 'Melanocharitidae', 'Scenopoeetes_dentirostris': 'Ptilonorhynchidae', 'Vanga_curvirostris': 'Vangidae', 'Enicurus_schistaceus': 'Muscicapidae', 'Rhynchostruthus_percivali': 'Fringillidae', 'Cnemoscopus_rubrirostris': 'Thraupidae', 'Dromaeocercus_brunneus': 'Sylviidae', 'Erithacus_rubecula': 'Muscicapidae', 'Larosterna_inca': 'Laridae', 'Leptasthenura_platensis': 'Furnariidae', 'Melidectes_torquatus': 'Meliphagidae', 'Otidiphaps_nobilis': 'Columbidae', 'Entomodestes_coracinus': 'Turdidae', 'Urothraupis_stolzmanni': 'Emberizidae', 'Psophocichla_litsitsirupa': 'Turdidae', 'Pholidornis_rushiae': 'Remizidae', 'Chlamydochaera_jefferyi': 'Turdidae', 'Numida_meleagris': 'Numididae', 'Gracula_religiosa': 'Sturnidae', 'Ficedula_albicollis': 'Muscicapidae', 'Anairetes_agilis': 'Tyrannidae', 'Pipra_chloromeros': 'Pipridae', 'Dryoscopus_angolensis': 'Malaconotidae', 'Leiothrix_argentauris': 'Timaliidae', 'Empidornis_semipartitus': 'Muscicapidae', 'Aburria_aburri': 'Cracidae', 'Lymnocryptes_minimus': 'Scolopacidae', 'Melanopareia_torquata': 'Rhinocryptidae', 'Leptosittaca_branickii': 'Psittacidae', 'Ammomanes_grayi': 'Alaudidae', 'Calidris_tenuirostris': 'Scolopacidae', 'Phlogophilus_hemileucurus': 'Trochilidae', 'Sheppardia_bocagei': 'Muscicapidae', 'Compsothraupis_loricata': 'Thraupidae', 'Sagittarius_serpentarius': 'Accipitridae', 'Melanoperdix_niger': 'Phasianidae', 'Rhea_americana': 'Rheidae', 'Pitangus_lictor': 'Tyrannidae', 'Strepera_graculina': 'Cracticidae', 'Heteromirafra_ruddi': 'Alaudidae', 'Mirafra_passerina': 'Alaudidae', 'Eudromia_elegans': 'Tinamidae', 'Pseudeos_fuscata': 'Psittacidae', 'Emberiza_buchanani': 'Emberizidae', 'Stephanoaetus_coronatus': 'Accipitridae', 'Melocichla_mentalis': 'Sylviidae', 'Lophospingus_pusillus': 'Emberizidae', 'Chen_caerulescens': 'Anatidae', 'Pezopetes_capitalis': 'Emberizidae', 'Jabouilleia_danjoui': 'Timaliidae', 'Papasula_abbotti': 'Sulidae', 'Idiopsar_brachyurus': 'Emberizidae', 'Charitospiza_eucosma': 'Emberizidae', 'Phoeniconaias_minor': 'Phoenicopteridae', 'Nomonyx_dominicus': 'Anatidae', 'Xenopipo_atronitens': 'Pipridae', 'Momotus_momota': 'Momotidae', 'Heterocercus_flavivertex': 'Pipridae', 'Phaeothlypis_rivularis': 'Parulidae', 'Toxostoma_crissale': 'Mimidae', 'Carpococcyx_radiatus': 'Cuculidae', 'Pachycephala_albiventris': 'Pachycephalidae', 'Foulehaio_carunculatus': 'Meliphagidae', 'Elvira_chionura': 'Trochilidae', 'Syrmaticus_humiae': 'Phasianidae', 'Meleagris_gallopavo': 'Phasianidae', 'Acanthorhynchus_superciliosus': 'Meliphagidae', 'Cissopis_leverianus': 'Thraupidae', 'Psilopsiagon_aymara': 'Psittacidae', 'Cyanocitta_cristata': 'Corvidae', 'Corvinella_corvina': 'Laniidae', 'Deroptyus_accipitrinus': 'Psittacidae', 'Hemithraupis_ruficapilla': 'Thraupidae', 'Damophila_julie': 'Trochilidae', 'Miliaria_calandra': 'Emberizidae', 'Geospiza_conirostris': 'Emberizidae', 'Mycteria_americana': 'Ciconiidae', 'Loboparadisea_sericea': 'Cnemophilidae', 'Coracias_garrulus': 'Coraciidae', 'Myrmia_micrura': 'Trochilidae', 'Siptornis_striaticollis': 'Furnariidae', 'Chrysuronia_oenone': 'Trochilidae', 'Orthogonys_chloricterus': 'Thraupidae', 'Synthliboramphus_antiquus': 'Alcidae', 'Cymbirhynchus_macrorhynchos': 'Eurylaimidae', 'Catharacta_lonnbergi': 'Stercorariidae', 'Rhynchotus_maculicollis': 'Tinamidae', 'Batara_cinerea': 'Thamnophilidae', 'Lepidopyga_coeruleogularis': 'Trochilidae', 'Ramphotrigon_ruficauda': 'Tyrannidae', 'Streptocitta_albicollis': 'Sturnidae', 'Stephanophorus_diadematus': 'Thraupidae', 'Todus_todus': 'Todidae', 'Pselliophorus_tibialis': 'Emberizidae', 'Myzornis_pyrrhoura': 'Timaliidae', 'Thaumatibis_gigantea': 'Threskiornithidae', 'Telacanthura_ussheri': 'Apodidae', 'Hylocitrea_bonensis': 'Pachycephalidae', 'Siptornopsis_hypochondriaca': 'Furnariidae', 'Acanthagenys_rufogularis': 'Meliphagidae', 'Lophoictinia_isura': 'Accipitridae', 'Neomixis_flavoviridis': 'Timaliidae', 'Anisognathus_lacrymosus': 'Thraupidae', 'Tesia_cyaniventer': 'Sylviidae', 'Thripias_namaquus': 'Picidae', 'Smicrornis_brevirostris': 'Acanthizidae', 'Phainoptila_melanoxantha': 'Bombycillidae', 'Hyloctistes_subulatus': 'Furnariidae', 'Mellisuga_helenae': 'Trochilidae', 'Podager_nacunda': 'Caprimulgidae', 'Automolus_infuscatus': 'Furnariidae', 'Lamprospiza_melanoleuca': 'Thraupidae', 'Trigonoceps_occipitalis': 'Accipitridae', 'Numenius_arquata': 'Scolopacidae', 'Chamaea_fasciata': 'Timaliidae', 'Phaenicophilus_poliocephalus': 'Thraupidae', 'Phelpsia_inornatus': 'Tyrannidae', 'Geomalia_heinrichi': 'Turdidae', 'Fringilla_montifringilla': 'Fringillidae', 'Phasianus_colchicus': 'Phasianidae', 'Dendrocincla_tyrannina': 'Dendrocolaptidae', 'Myiopagis_gaimardii': 'Tyrannidae', 'Starnoenas_cyanocephala': 'Columbidae', 'Xiphidiopicus_percussus': 'Picidae', 'Amblyramphus_holosericeus': 'Icteridae', 'Grallaria_ruficapilla': 'Formicariidae', 'Sakesphorus_canadensis': 'Thamnophilidae', 'Parophasma_galinieri': 'Timaliidae', 'Megatriorchis_doriae': 'Accipitridae', 'Eudynamys_scolopaceus': 'Cuculidae', 'Myrmecocichla_tholloni': 'Muscicapidae', 'Heteromunia_pectoralis': 'Estrildidae', 'Sylvia_atricapilla': 'Sylviidae', 'Loxops_caeruleirostris': 'Fringillidae', 'Cyanocompsa_cyanoides': 'Cardinalidae', 'Stephanoxis_lalandi': 'Trochilidae', 'Melanoptila_glabrirostris': 'Mimidae', 'Latoucheornis_siemsseni': 'Emberizidae', 'Casmerodius_albus': 'Ardeidae', 'Saltatricula_multicolor': 'Emberizidae', 'Chloropsis_cyanopogon': 'Chloropseidae', 'Cyanolyca_cucullata': 'Corvidae', 'Pipreola_whitelyi': 'Cotingidae', 'Passer_domesticus': 'Passeridae', 'Pteroglossus_inscriptus': 'Ramphastidae', 'Gallinago_gallinago': 'Scolopacidae', 'Nestor_notabilis': 'Psittacidae', 'Tickellia_hodgsoni': 'Sylviidae', 'Galloperdix_spadicea': 'Phasianidae', 'Primolius_auricollis': 'Psittacidae', 'Heteroscelus_brevipes': 'Scolopacidae', 'Pygoscelis_antarcticus': 'Spheniscidae', 'Neolalage_banksiana': 'Monarchidae', 'Sphenoeacus_afer': 'Sylviidae', 'Aphrastura_spinicauda': 'Furnariidae', 'Oncostoma_cinereigulare': 'Tyrannidae', 'Microcerculus_philomela': 'Troglodytidae', 'Eucometis_penicillata': 'Thraupidae', 'Aethia_psittacula': 'Alcidae', 'Hypoedaleus_guttatus': 'Thamnophilidae', 'Vini_kuhlii': 'Psittacidae', 'Philesturnus_carunculatus': 'Callaeatidae', 'Anurolimnas_castaneiceps': 'Rallidae', 'Chaetocercus_mulsant': 'Trochilidae', 'Crypturellus_variegatus': 'Tinamidae', 'Psarisomus_dalhousiae': 'Eurylaimidae', 'Phoenicopterus_ruber': 'Phoenicopteridae', 'Gymnocrex_rosenbergii': 'Rallidae', 'Orthonyx_temminckii': 'Orthonychidae', 'Tephrozosterops_stalkeri': 'Zosteropidae', 'Rupicola_rupicola': 'Cotingidae', 'Alaemon_alaudipes': 'Alaudidae', 'Grantiella_picta': 'Meliphagidae', 'Afropavo_congensis': 'Phasianidae', 'Phyllastrephus_cabanisi': 'Pycnonotidae', 'Oriolus_sagittatus': 'Oriolidae', 'Cyphorhinus_arada': 'Troglodytidae', 'Conothraupis_speculigera': 'Thraupidae', 'Stiltia_isabella': 'Glareolidae', 'Tersina_viridis': 'Thraupidae', 'Tyto_alba': 'Tytonidae', 'Psittirostra_psittacea': 'Fringillidae', 'Oreortyx_pictus': 'Odontophoridae', 'Lanioturdus_torquatus': 'Platysteiridae', 'Myza_sarasinorum': 'Meliphagidae', 'Frederickena_viridis': 'Thamnophilidae', 'Microchera_albocoronata': 'Trochilidae', 'Ardeola_speciosa': 'Ardeidae', 'Nasica_longirostris': 'Dendrocolaptidae', 'Orthopsittaca_manilata': 'Psittacidae', 'Trichothraupis_melanops': 'Thraupidae', 'Lycocorax_pyrrhopterus': 'Paradisaeidae', 'Fraseria_ocreata': 'Muscicapidae', 'Cerorhinca_monocerata': 'Alcidae', 'Heliothryx_barroti': 'Trochilidae', 'Gecinulus_grantia': 'Picidae', 'Calonectris_leucomelas': 'Procellariidae', 'Gymnocichla_nudiceps': 'Thamnophilidae', 'Ptiloprora_guisei': 'Meliphagidae', 'Eurynorhynchus_pygmeus': 'Scolopacidae', 'Bartramia_longicauda': 'Scolopacidae', 'Polystictus_pectoralis': 'Tyrannidae', 'Himantopus_himantopus': 'Recurvirostridae', 'Vanellus_vanellus': 'Charadriidae', 'Aethopyga_mystacalis': 'Nectariniidae', 'Atrichornis_rufescens': 'Atrichornithidae', 'Rollandia_rolland': 'Podicipedidae', 'Philentoma_pyrhoptera': 'Muscicapidae', 'Upupa_epops': 'Upupidae', 'Sericossypha_albocristata': 'Thraupidae', 'Eurypyga_helias': 'Eurypygidae', 'Thalassornis_leuconotus': 'Anatidae', 'Anastomus_oscitans': 'Ciconiidae', 'Graueria_vittata': 'Sylviidae', 'Taphrolesbia_griseiventris': 'Trochilidae', 'Bucanetes_githagineus': 'Fringillidae', 'Myiornis_auricularis': 'Tyrannidae', 'Tragopan_melanocephalus': 'Phasianidae', 'Philortyx_fasciatus': 'Odontophoridae', 'Mycerobas_melanozanthos': 'Fringillidae', 'Lipaugus_fuscocinereus': 'Cotingidae', 'Coracina_typica': 'Campephagidae', 'Haplophaedia_aureliae': 'Trochilidae', 'Thaumastura_cora': 'Trochilidae', 'Thamnomanes_saturninus': 'Thamnophilidae', 'Aenigmatolimnas_marginalis': 'Rallidae', 'Pseudocolopteryx_flaviventris': 'Tyrannidae', 'Cercotrichas_podobe': 'Muscicapidae', 'Vireolanius_leucotis': 'Vireonidae', 'Hemiphaga_novaeseelandiae': 'Columbidae', 'Bangsia_arcaei': 'Thraupidae', 'Lochmias_nematura': 'Furnariidae', 'Caloenas_nicobarica': 'Columbidae', 'Heterospingus_xanthopygius': 'Thraupidae', 'Brachypteracias_leptosomus': 'Brachypteraciidae', 'Pseudoscops_grammicus': 'Strigidae', 'Strix_ocellata': 'Strigidae', 'Garrulax_monileger': 'Timaliidae', 'Hypargos_niveoguttatus': 'Estrildidae', 'Cyanochen_cyanoptera': 'Anatidae', 'Liosceles_thoracicus': 'Rhinocryptidae', 'Auriparus_flaviceps': 'Remizidae', 'Hodgsonius_phaenicuroides': 'Muscicapidae', 'Hylexetastes_perrotii': 'Dendrocolaptidae', 'Periporphyrus_erythromelas': 'Cardinalidae', 'Rissa_tridactyla': 'Laridae', 'Hemignathus_parvus': 'Fringillidae', 'Eurystomus_orientalis': 'Coraciidae', 'Oceanites_gracilis': 'Hydrobatidae', 'Zavattariornis_stresemanni': 'Corvidae', 'Schetba_rufa': 'Vangidae', 'Fluvicola_pica': 'Tyrannidae', 'Fulmarus_glacialoides': 'Procellariidae', 'Icterus_graceannae': 'Icteridae', 'Geoffroyus_heteroclitus': 'Psittacidae', 'Egretta_garzetta': 'Ardeidae', 'Guttera_plumifera': 'Numididae', 'Henicophaps_albifrons': 'Columbidae', 'Eudyptula_minor': 'Spheniscidae', 'Psitteuteles_goldiei': 'Psittacidae', 'Ducula_aenea': 'Columbidae', 'Penelopina_nigra': 'Cracidae', 'Sublegatus_modestus': 'Tyrannidae', 'Phoebetria_palpebrata': 'Diomedeidae', 'Spizixos_semitorques': 'Pycnonotidae', 'Campethera_punctuligera': 'Picidae', 'Polyplectron_napoleonis': 'Phasianidae', 'Pucrasia_macrolopha': 'Phasianidae', 'Pyrrhocorax_pyrrhocorax': 'Corvidae', 'Bostrychia_hagedash': 'Threskiornithidae', 'Biziura_lobata': 'Anatidae', 'Perissocephalus_tricolor': 'Cotingidae', 'Ifrita_kowaldi': 'Orthonychidae', 'Nothoprocta_perdicaria': 'Tinamidae', 'Actenoides_hombroni': 'Alcedinidae', 'Colorhamphus_parvirostris': 'Tyrannidae', 'Surnia_ulula': 'Strigidae', 'Bolborhynchus_orbygnesius': 'Psittacidae', 'Taraba_major': 'Thamnophilidae', 'Haplospiza_rustica': 'Emberizidae', 'Melospiza_lincolnii': 'Emberizidae', 'Gallinula_nesiotis': 'Rallidae', 'Xanthomyza_phrygia': 'Meliphagidae', 'Gymnoderus_foetidus': 'Cotingidae', 'Coereba_flaveola': 'Coerebidae', 'Rhaphidura_leucopygialis': 'Apodidae', 'Ramphocinclus_brachyurus': 'Mimidae', 'Meliphaga_albonotata': 'Meliphagidae', 'Coccyzus_merlini': 'Cuculidae', 'Nettapus_pulchellus': 'Anatidae', 'Petrophassa_albipennis': 'Columbidae', 'Melanerpes_portoricensis': 'Picidae', 'Trogon_viridis': 'Trogonidae', 'Chthonicola_sagittatus': 'Acanthizidae', 'Malia_grata': 'Timaliidae', 'Heterophasia_picaoides': 'Timaliidae', 'Rukia_ruki': 'Zosteropidae', 'Ortygospiza_gabonensis': 'Estrildidae', 'Geocolaptes_olivaceus': 'Picidae', 'Cyanoramphus_cookii': 'Psittacidae', 'Anomalospiza_imberbis': 'Viduidae', 'Cariama_cristata': 'Cariamidae', 'Certhilauda_curvirostris': 'Alaudidae', 'Muscipipra_vetula': 'Tyrannidae', 'Euryceros_prevostii': 'Vangidae', 'Circus_aeruginosus': 'Accipitridae', 'Chlorophanes_spiza': 'Thraupidae', 'Aplonis_grandis': 'Sturnidae', 'Tachornis_squamata': 'Apodidae', 'Chlorestes_notata': 'Trochilidae', 'Platylophus_galericulatus': 'Corvidae', 'Lamprolia_victoriae': 'Monarchidae', 'Megaceryle_torquata': 'Alcedinidae', 'Tarsiger_cyanurus': 'Muscicapidae', 'Iridophanes_pulcherrimus': 'Thraupidae', 'Lophura_leucomelanos': 'Phasianidae', 'Cercococcyx_mechowi': 'Cuculidae', 'Nycticorax_nycticorax': 'Ardeidae', 'Pyriglena_atra': 'Thamnophilidae', 'Paradoxornis_heudei': 'Timaliidae', 'Merganetta_armata': 'Anatidae', 'Caloperdix_oculeus': 'Phasianidae', 'Neochen_jubata': 'Anatidae', 'Poecilotriccus_ruficeps': 'Tyrannidae', 'Morococcyx_erythropygus': 'Cuculidae', 'Tetrax_tetrax': 'Otididae', 'Stictonetta_naevosa': 'Anatidae', 'Ochetorhynchus_andaecola': 'Furnariidae', 'Centropus_milo': 'Cuculidae', 'Trichastoma_rostratum': 'Timaliidae', 'Sphenocichla_humei': 'Timaliidae', 'Brachypteryx_stellata': 'Turdidae', 'Phaenicophaeus_cumingi': 'Cuculidae', 'Patagioenas_leucocephala': 'Columbidae', 'Gymnorhinus_cyanocephalus': 'Corvidae', 'Loriculus_philippensis': 'Psittacidae', 'Iridosornis_analis': 'Thraupidae', 'Sclateria_naevia': 'Thamnophilidae', 'Polihierax_semitorquatus': 'Falconidae', 'Dicrurus_caerulescens': 'Dicruridae', 'Stipiturus_malachurus': 'Maluridae', 'Loxipasser_anoxanthus': 'Emberizidae', 'Arenaria_interpres': 'Scolopacidae', 'Oryzoborus_nuttingi': 'Emberizidae', 'Lampornis_clemenciae': 'Trochilidae', 'Podoces_hendersoni': 'Corvidae', 'Musophaga_rossae': 'Musophagidae', 'Pinarocorys_erythropygia': 'Alaudidae', 'Melipotes_gymnops': 'Meliphagidae', 'Chrysolophus_pictus': 'Phasianidae', 'Clytospiza_monteiri': 'Estrildidae', 'Setophaga_ruticilla': 'Parulidae', 'Corcorax_melanorhamphos': 'Corcoracidae', 'Perisoreus_canadensis': 'Corvidae', 'Doliornis_sclateri': 'Cotingidae', 'Spizella_passerina': 'Emberizidae', 'Atthis_heloisa': 'Trochilidae', 'Menura_novaehollandiae': 'Menuridae', 'Liocichla_steerii': 'Timaliidae', 'Turtur_abyssinicus': 'Columbidae', 'Pachyptila_belcheri': 'Procellariidae', 'Phodilus_badius': 'Tytonidae', 'Oreonympha_nobilis': 'Trochilidae', 'Macheiramphus_alcinus': 'Accipitridae', 'Uratelornis_chimaera': 'Brachypteraciidae', 'Vermivora_chrysoptera': 'Parulidae', 'Geophaps_scripta': 'Columbidae', 'Dioptrornis_chocolatinus': 'Muscicapidae', 'Xenoligea_montana': 'Parulidae', 'Leptotila_verreauxi': 'Columbidae', 'Myrmothera_campanisona': 'Formicariidae', 'Achaetops_pycnopygius': 'Sylviidae', 'Elseyornis_melanops': 'Charadriidae', 'Ampelioides_tschudii': 'Cotingidae', 'Carpodectes_nitidus': 'Cotingidae', 'Eurocephalus_anguitimens': 'Laniidae', 'Todiramphus_leucopygius': 'Alcedinidae', 'Lophotriccus_pileatus': 'Tyrannidae', 'Hirundinea_ferruginea': 'Tyrannidae', 'Tephrodornis_pondicerianus': 'Campephagidae', 'Anabazenops_fuscus': 'Furnariidae', 'Cnemarchus_erythropygius': 'Tyrannidae', 'Coturnicops_exquisitus': 'Rallidae', 'Polytmus_guainumbi': 'Trochilidae', 'Nisaetus_cirrhatus': 'Accipitridae', 'Camptostoma_imberbe': 'Tyrannidae'}\n"
     ]
    }
   ],
   "source": [
    "import csv\n",
    "reader = csv.reader(open(\"/home/eeb177-student/Desktop/eeb-177/homework/natureFS.csv\", \"r\"))\n",
    "nature_dict = {}\n",
    "for row in reader:\n",
    "    a, b = row\n",
    "    nature_dict[a] = b\n",
    "    \n",
    "print(nature_dict)\n",
    "    "
   ]
  },
  {
   "cell_type": "code",
   "execution_count": 2,
   "metadata": {
    "collapsed": false
   },
   "outputs": [
    {
     "ename": "ValueError",
     "evalue": "too many values to unpack (expected 2)",
     "output_type": "error",
     "traceback": [
      "\u001b[0;31m---------------------------------------------------------------------------\u001b[0m",
      "\u001b[0;31mValueError\u001b[0m                                Traceback (most recent call last)",
      "\u001b[0;32m<ipython-input-2-1000506d61b4>\u001b[0m in \u001b[0;36m<module>\u001b[0;34m()\u001b[0m\n\u001b[1;32m      3\u001b[0m \u001b[0mebird_dict\u001b[0m \u001b[0;34m=\u001b[0m \u001b[0;34m{\u001b[0m\u001b[0;34m}\u001b[0m\u001b[0;34m\u001b[0m\u001b[0m\n\u001b[1;32m      4\u001b[0m \u001b[0;32mfor\u001b[0m \u001b[0mrow\u001b[0m \u001b[0;32min\u001b[0m \u001b[0mreader\u001b[0m\u001b[0;34m:\u001b[0m\u001b[0;34m\u001b[0m\u001b[0m\n\u001b[0;32m----> 5\u001b[0;31m     \u001b[0ma\u001b[0m\u001b[0;34m,\u001b[0m \u001b[0mb\u001b[0m \u001b[0;34m=\u001b[0m \u001b[0mrow\u001b[0m\u001b[0;34m\u001b[0m\u001b[0m\n\u001b[0m\u001b[1;32m      6\u001b[0m     \u001b[0mebird_dict\u001b[0m\u001b[0;34m[\u001b[0m\u001b[0ma\u001b[0m\u001b[0;34m]\u001b[0m \u001b[0;34m=\u001b[0m \u001b[0mb\u001b[0m\u001b[0;34m\u001b[0m\u001b[0m\n\u001b[1;32m      7\u001b[0m \u001b[0;34m\u001b[0m\u001b[0m\n",
      "\u001b[0;31mValueError\u001b[0m: too many values to unpack (expected 2)"
     ]
    }
   ],
   "source": [
    "import csv\n",
    "reader = csv.reader(open(\"/home/eeb177-student/Desktop/eeb-177/homework/eBird_TaxonomyFS.csv\", \"r\"))\n",
    "ebird_dict = {}\n",
    "for row in reader:\n",
    "    a, b = row\n",
    "    ebird_dict[a] = b\n",
    "    \n",
    "print(ebird_dict)"
   ]
  },
  {
   "cell_type": "code",
   "execution_count": null,
   "metadata": {
    "collapsed": true
   },
   "outputs": [],
   "source": []
  }
 ],
 "metadata": {
  "anaconda-cloud": {},
  "kernelspec": {
   "display_name": "Python [conda root]",
   "language": "python",
   "name": "conda-root-py"
  },
  "language_info": {
   "codemirror_mode": {
    "name": "ipython",
    "version": 3
   },
   "file_extension": ".py",
   "mimetype": "text/x-python",
   "name": "python",
   "nbconvert_exporter": "python",
   "pygments_lexer": "ipython3",
   "version": "3.5.2"
  }
 },
 "nbformat": 4,
 "nbformat_minor": 2
}
